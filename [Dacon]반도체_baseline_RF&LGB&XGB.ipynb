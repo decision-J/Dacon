{
 "cells": [
  {
   "cell_type": "code",
   "execution_count": 1,
   "metadata": {},
   "outputs": [],
   "source": [
    "import os\n",
    "import numpy as np\n",
    "import pandas as pd \n",
    "from tqdm import tqdm_notebook\n",
    "import matplotlib.pyplot as plt\n",
    "%matplotlib inline\n",
    "\n",
    "import warnings\n",
    "warnings.filterwarnings('ignore')\n",
    "\n",
    "import seaborn as sns\n",
    "from pandas.plotting import scatter_matrix\n",
    "\n",
    "import time\n",
    "from sklearn.ensemble import RandomForestRegressor\n",
    "from sklearn.model_selection import cross_val_score, train_test_split"
   ]
  },
  {
   "cell_type": "code",
   "execution_count": 2,
   "metadata": {},
   "outputs": [
    {
     "data": {
      "text/html": [
       "<div>\n",
       "<style scoped>\n",
       "    .dataframe tbody tr th:only-of-type {\n",
       "        vertical-align: middle;\n",
       "    }\n",
       "\n",
       "    .dataframe tbody tr th {\n",
       "        vertical-align: top;\n",
       "    }\n",
       "\n",
       "    .dataframe thead th {\n",
       "        text-align: right;\n",
       "    }\n",
       "</style>\n",
       "<table border=\"1\" class=\"dataframe\">\n",
       "  <thead>\n",
       "    <tr style=\"text-align: right;\">\n",
       "      <th></th>\n",
       "      <th>layer_1</th>\n",
       "      <th>layer_2</th>\n",
       "      <th>layer_3</th>\n",
       "      <th>layer_4</th>\n",
       "      <th>0</th>\n",
       "      <th>1</th>\n",
       "      <th>2</th>\n",
       "      <th>3</th>\n",
       "      <th>4</th>\n",
       "      <th>5</th>\n",
       "      <th>...</th>\n",
       "      <th>216</th>\n",
       "      <th>217</th>\n",
       "      <th>218</th>\n",
       "      <th>219</th>\n",
       "      <th>220</th>\n",
       "      <th>221</th>\n",
       "      <th>222</th>\n",
       "      <th>223</th>\n",
       "      <th>224</th>\n",
       "      <th>225</th>\n",
       "    </tr>\n",
       "  </thead>\n",
       "  <tbody>\n",
       "    <tr>\n",
       "      <td>0</td>\n",
       "      <td>10</td>\n",
       "      <td>10</td>\n",
       "      <td>10</td>\n",
       "      <td>10</td>\n",
       "      <td>0.254551</td>\n",
       "      <td>0.258823</td>\n",
       "      <td>0.254659</td>\n",
       "      <td>0.252085</td>\n",
       "      <td>0.247678</td>\n",
       "      <td>0.253614</td>\n",
       "      <td>...</td>\n",
       "      <td>0.354750</td>\n",
       "      <td>0.369223</td>\n",
       "      <td>0.388184</td>\n",
       "      <td>0.408496</td>\n",
       "      <td>0.414564</td>\n",
       "      <td>0.429403</td>\n",
       "      <td>0.419225</td>\n",
       "      <td>0.443250</td>\n",
       "      <td>0.433414</td>\n",
       "      <td>0.465502</td>\n",
       "    </tr>\n",
       "    <tr>\n",
       "      <td>1</td>\n",
       "      <td>10</td>\n",
       "      <td>10</td>\n",
       "      <td>10</td>\n",
       "      <td>20</td>\n",
       "      <td>0.205062</td>\n",
       "      <td>0.225544</td>\n",
       "      <td>0.217758</td>\n",
       "      <td>0.202169</td>\n",
       "      <td>0.199633</td>\n",
       "      <td>0.207380</td>\n",
       "      <td>...</td>\n",
       "      <td>0.557203</td>\n",
       "      <td>0.573656</td>\n",
       "      <td>0.587998</td>\n",
       "      <td>0.612754</td>\n",
       "      <td>0.627825</td>\n",
       "      <td>0.633393</td>\n",
       "      <td>0.637706</td>\n",
       "      <td>0.625981</td>\n",
       "      <td>0.653231</td>\n",
       "      <td>0.637853</td>\n",
       "    </tr>\n",
       "    <tr>\n",
       "      <td>2</td>\n",
       "      <td>10</td>\n",
       "      <td>10</td>\n",
       "      <td>10</td>\n",
       "      <td>30</td>\n",
       "      <td>0.189196</td>\n",
       "      <td>0.165869</td>\n",
       "      <td>0.177655</td>\n",
       "      <td>0.156822</td>\n",
       "      <td>0.175094</td>\n",
       "      <td>0.177755</td>\n",
       "      <td>...</td>\n",
       "      <td>0.699864</td>\n",
       "      <td>0.708688</td>\n",
       "      <td>0.721982</td>\n",
       "      <td>0.713464</td>\n",
       "      <td>0.743030</td>\n",
       "      <td>0.741709</td>\n",
       "      <td>0.747743</td>\n",
       "      <td>0.746037</td>\n",
       "      <td>0.737356</td>\n",
       "      <td>0.750391</td>\n",
       "    </tr>\n",
       "    <tr>\n",
       "      <td>3</td>\n",
       "      <td>10</td>\n",
       "      <td>10</td>\n",
       "      <td>10</td>\n",
       "      <td>40</td>\n",
       "      <td>0.131003</td>\n",
       "      <td>0.120076</td>\n",
       "      <td>0.138975</td>\n",
       "      <td>0.117931</td>\n",
       "      <td>0.130566</td>\n",
       "      <td>0.131262</td>\n",
       "      <td>...</td>\n",
       "      <td>0.764786</td>\n",
       "      <td>0.763788</td>\n",
       "      <td>0.770017</td>\n",
       "      <td>0.787571</td>\n",
       "      <td>0.778866</td>\n",
       "      <td>0.776969</td>\n",
       "      <td>0.774712</td>\n",
       "      <td>0.801526</td>\n",
       "      <td>0.805305</td>\n",
       "      <td>0.784057</td>\n",
       "    </tr>\n",
       "    <tr>\n",
       "      <td>4</td>\n",
       "      <td>10</td>\n",
       "      <td>10</td>\n",
       "      <td>10</td>\n",
       "      <td>50</td>\n",
       "      <td>0.091033</td>\n",
       "      <td>0.086893</td>\n",
       "      <td>0.108125</td>\n",
       "      <td>0.080405</td>\n",
       "      <td>0.105917</td>\n",
       "      <td>0.077083</td>\n",
       "      <td>...</td>\n",
       "      <td>0.786677</td>\n",
       "      <td>0.802271</td>\n",
       "      <td>0.806557</td>\n",
       "      <td>0.799614</td>\n",
       "      <td>0.789333</td>\n",
       "      <td>0.804087</td>\n",
       "      <td>0.787763</td>\n",
       "      <td>0.794948</td>\n",
       "      <td>0.819105</td>\n",
       "      <td>0.801781</td>\n",
       "    </tr>\n",
       "  </tbody>\n",
       "</table>\n",
       "<p>5 rows × 230 columns</p>\n",
       "</div>"
      ],
      "text/plain": [
       "   layer_1  layer_2  layer_3  layer_4         0         1         2         3  \\\n",
       "0       10       10       10       10  0.254551  0.258823  0.254659  0.252085   \n",
       "1       10       10       10       20  0.205062  0.225544  0.217758  0.202169   \n",
       "2       10       10       10       30  0.189196  0.165869  0.177655  0.156822   \n",
       "3       10       10       10       40  0.131003  0.120076  0.138975  0.117931   \n",
       "4       10       10       10       50  0.091033  0.086893  0.108125  0.080405   \n",
       "\n",
       "          4         5  ...       216       217       218       219       220  \\\n",
       "0  0.247678  0.253614  ...  0.354750  0.369223  0.388184  0.408496  0.414564   \n",
       "1  0.199633  0.207380  ...  0.557203  0.573656  0.587998  0.612754  0.627825   \n",
       "2  0.175094  0.177755  ...  0.699864  0.708688  0.721982  0.713464  0.743030   \n",
       "3  0.130566  0.131262  ...  0.764786  0.763788  0.770017  0.787571  0.778866   \n",
       "4  0.105917  0.077083  ...  0.786677  0.802271  0.806557  0.799614  0.789333   \n",
       "\n",
       "        221       222       223       224       225  \n",
       "0  0.429403  0.419225  0.443250  0.433414  0.465502  \n",
       "1  0.633393  0.637706  0.625981  0.653231  0.637853  \n",
       "2  0.741709  0.747743  0.746037  0.737356  0.750391  \n",
       "3  0.776969  0.774712  0.801526  0.805305  0.784057  \n",
       "4  0.804087  0.787763  0.794948  0.819105  0.801781  \n",
       "\n",
       "[5 rows x 230 columns]"
      ]
     },
     "execution_count": 2,
     "metadata": {},
     "output_type": "execute_result"
    }
   ],
   "source": [
    "train = pd.read_csv('train.csv')\n",
    "train.head()"
   ]
  },
  {
   "cell_type": "code",
   "execution_count": 3,
   "metadata": {},
   "outputs": [],
   "source": [
    "num_cols = list(train.select_dtypes(exclude=['object']).columns)\n",
    "layers = num_cols[0:4]"
   ]
  },
  {
   "cell_type": "code",
   "execution_count": 6,
   "metadata": {},
   "outputs": [
    {
     "data": {
      "text/plain": [
       "['layer_1', 'layer_2', 'layer_3', 'layer_4']"
      ]
     },
     "execution_count": 6,
     "metadata": {},
     "output_type": "execute_result"
    }
   ],
   "source": [
    "layers"
   ]
  },
  {
   "cell_type": "code",
   "execution_count": 7,
   "metadata": {},
   "outputs": [],
   "source": [
    "X = train.iloc[:,4:]\n",
    "y1 = train.loc[:, train.columns == 'layer_1']/10\n",
    "y2 = train.loc[:, train.columns == 'layer_2']/10\n",
    "y3 = train.loc[:, train.columns == 'layer_3']/10\n",
    "y4 = train.loc[:, train.columns == 'layer_4']/10"
   ]
  },
  {
   "cell_type": "code",
   "execution_count": 17,
   "metadata": {},
   "outputs": [],
   "source": [
    "# -11.26나옴\n",
    "start = time.time()\n",
    "\n",
    "base = RandomForestRegressor(random_state=0, n_estimators=3)\n",
    "\n",
    "scores = cross_val_score(base, X, y, cv=3, scoring='neg_mean_absolute_error')\n",
    "print (\"ROC: %.2f (+/- %.2f) [%s]\" %(scores.mean(), scores.std(), \"Random Forest\"))\n",
    "\n",
    "print(\"Running time :\", time.time() - start, \"sec\")  # 실행 시간"
   ]
  },
  {
   "cell_type": "code",
   "execution_count": 22,
   "metadata": {},
   "outputs": [
    {
     "name": "stdout",
     "output_type": "stream",
     "text": [
      "ROC: -10.85 (+/- 3.11) [Random Forest]\n",
      "Running time : 12618.158285856247 sec\n"
     ]
    }
   ],
   "source": [
    "start = time.time()\n",
    "\n",
    "base = RandomForestRegressor(random_state=0, n_estimators=10)\n",
    "\n",
    "scores = cross_val_score(base, X, y, cv=3, scoring='neg_mean_absolute_error')\n",
    "print (\"ROC: %.2f (+/- %.2f) [%s]\" %(scores.mean(), scores.std(), \"Random Forest\"))\n",
    "\n",
    "print(\"Running time :\", time.time() - start, \"sec\")  # 실행 시간"
   ]
  },
  {
   "cell_type": "code",
   "execution_count": 25,
   "metadata": {},
   "outputs": [
    {
     "data": {
      "text/plain": [
       "RandomForestRegressor(bootstrap=True, criterion='mse', max_depth=None,\n",
       "           max_features='auto', max_leaf_nodes=None,\n",
       "           min_impurity_decrease=0.0, min_impurity_split=None,\n",
       "           min_samples_leaf=1, min_samples_split=2,\n",
       "           min_weight_fraction_leaf=0.0, n_estimators=3, n_jobs=1,\n",
       "           oob_score=False, random_state=0, verbose=0, warm_start=False)"
      ]
     },
     "execution_count": 25,
     "metadata": {},
     "output_type": "execute_result"
    }
   ],
   "source": [
    "# No CV version\n",
    "import time\n",
    "from sklearn.ensemble import RandomForestRegressor\n",
    "\n",
    "start = time.time()\n",
    "\n",
    "base = RandomForestRegressor(random_state=0, n_estimators=3)\n",
    "base.fit(X, y2)\n",
    "\n",
    "print(\"Running time :\", time.time() - start, \"sec\")  # 실행 시간"
   ]
  },
  {
   "cell_type": "code",
   "execution_count": 3,
   "metadata": {},
   "outputs": [
    {
     "data": {
      "text/html": [
       "<div>\n",
       "<style scoped>\n",
       "    .dataframe tbody tr th:only-of-type {\n",
       "        vertical-align: middle;\n",
       "    }\n",
       "\n",
       "    .dataframe tbody tr th {\n",
       "        vertical-align: top;\n",
       "    }\n",
       "\n",
       "    .dataframe thead th {\n",
       "        text-align: right;\n",
       "    }\n",
       "</style>\n",
       "<table border=\"1\" class=\"dataframe\">\n",
       "  <thead>\n",
       "    <tr style=\"text-align: right;\">\n",
       "      <th></th>\n",
       "      <th>0</th>\n",
       "      <th>1</th>\n",
       "      <th>2</th>\n",
       "      <th>3</th>\n",
       "      <th>4</th>\n",
       "      <th>5</th>\n",
       "      <th>6</th>\n",
       "      <th>7</th>\n",
       "      <th>8</th>\n",
       "      <th>9</th>\n",
       "      <th>...</th>\n",
       "      <th>216</th>\n",
       "      <th>217</th>\n",
       "      <th>218</th>\n",
       "      <th>219</th>\n",
       "      <th>220</th>\n",
       "      <th>221</th>\n",
       "      <th>222</th>\n",
       "      <th>223</th>\n",
       "      <th>224</th>\n",
       "      <th>225</th>\n",
       "    </tr>\n",
       "  </thead>\n",
       "  <tbody>\n",
       "    <tr>\n",
       "      <td>0</td>\n",
       "      <td>0.535410</td>\n",
       "      <td>0.520775</td>\n",
       "      <td>0.494087</td>\n",
       "      <td>0.465134</td>\n",
       "      <td>0.430339</td>\n",
       "      <td>0.401751</td>\n",
       "      <td>0.355986</td>\n",
       "      <td>0.326427</td>\n",
       "      <td>0.282340</td>\n",
       "      <td>0.216756</td>\n",
       "      <td>...</td>\n",
       "      <td>0.748339</td>\n",
       "      <td>0.757575</td>\n",
       "      <td>0.768130</td>\n",
       "      <td>0.777062</td>\n",
       "      <td>0.769173</td>\n",
       "      <td>0.768253</td>\n",
       "      <td>0.738704</td>\n",
       "      <td>0.739460</td>\n",
       "      <td>0.702139</td>\n",
       "      <td>0.702238</td>\n",
       "    </tr>\n",
       "    <tr>\n",
       "      <td>1</td>\n",
       "      <td>0.351099</td>\n",
       "      <td>0.398179</td>\n",
       "      <td>0.413809</td>\n",
       "      <td>0.418529</td>\n",
       "      <td>0.433257</td>\n",
       "      <td>0.455410</td>\n",
       "      <td>0.451065</td>\n",
       "      <td>0.464230</td>\n",
       "      <td>0.476011</td>\n",
       "      <td>0.477219</td>\n",
       "      <td>...</td>\n",
       "      <td>0.333931</td>\n",
       "      <td>0.276307</td>\n",
       "      <td>0.211513</td>\n",
       "      <td>0.159223</td>\n",
       "      <td>0.110982</td>\n",
       "      <td>0.083130</td>\n",
       "      <td>0.099780</td>\n",
       "      <td>0.145420</td>\n",
       "      <td>0.260501</td>\n",
       "      <td>0.343857</td>\n",
       "    </tr>\n",
       "    <tr>\n",
       "      <td>2</td>\n",
       "      <td>0.490537</td>\n",
       "      <td>0.435958</td>\n",
       "      <td>0.413428</td>\n",
       "      <td>0.355796</td>\n",
       "      <td>0.335777</td>\n",
       "      <td>0.299944</td>\n",
       "      <td>0.242745</td>\n",
       "      <td>0.210555</td>\n",
       "      <td>0.180739</td>\n",
       "      <td>0.169717</td>\n",
       "      <td>...</td>\n",
       "      <td>0.709371</td>\n",
       "      <td>0.746826</td>\n",
       "      <td>0.781436</td>\n",
       "      <td>0.788292</td>\n",
       "      <td>0.828630</td>\n",
       "      <td>0.835166</td>\n",
       "      <td>0.845859</td>\n",
       "      <td>0.846032</td>\n",
       "      <td>0.836724</td>\n",
       "      <td>0.846779</td>\n",
       "    </tr>\n",
       "    <tr>\n",
       "      <td>3</td>\n",
       "      <td>0.051634</td>\n",
       "      <td>0.075802</td>\n",
       "      <td>0.133983</td>\n",
       "      <td>0.154546</td>\n",
       "      <td>0.209387</td>\n",
       "      <td>0.251700</td>\n",
       "      <td>0.287552</td>\n",
       "      <td>0.333000</td>\n",
       "      <td>0.340617</td>\n",
       "      <td>0.393592</td>\n",
       "      <td>...</td>\n",
       "      <td>0.075046</td>\n",
       "      <td>0.056651</td>\n",
       "      <td>0.079884</td>\n",
       "      <td>0.147469</td>\n",
       "      <td>0.213112</td>\n",
       "      <td>0.298096</td>\n",
       "      <td>0.382823</td>\n",
       "      <td>0.489381</td>\n",
       "      <td>0.562383</td>\n",
       "      <td>0.599247</td>\n",
       "    </tr>\n",
       "    <tr>\n",
       "      <td>4</td>\n",
       "      <td>0.154031</td>\n",
       "      <td>0.201728</td>\n",
       "      <td>0.270414</td>\n",
       "      <td>0.283799</td>\n",
       "      <td>0.343050</td>\n",
       "      <td>0.340233</td>\n",
       "      <td>0.379244</td>\n",
       "      <td>0.378511</td>\n",
       "      <td>0.373017</td>\n",
       "      <td>0.364702</td>\n",
       "      <td>...</td>\n",
       "      <td>0.255070</td>\n",
       "      <td>0.242396</td>\n",
       "      <td>0.271287</td>\n",
       "      <td>0.328828</td>\n",
       "      <td>0.397950</td>\n",
       "      <td>0.486436</td>\n",
       "      <td>0.530573</td>\n",
       "      <td>0.582752</td>\n",
       "      <td>0.637296</td>\n",
       "      <td>0.637238</td>\n",
       "    </tr>\n",
       "  </tbody>\n",
       "</table>\n",
       "<p>5 rows × 226 columns</p>\n",
       "</div>"
      ],
      "text/plain": [
       "          0         1         2         3         4         5         6  \\\n",
       "0  0.535410  0.520775  0.494087  0.465134  0.430339  0.401751  0.355986   \n",
       "1  0.351099  0.398179  0.413809  0.418529  0.433257  0.455410  0.451065   \n",
       "2  0.490537  0.435958  0.413428  0.355796  0.335777  0.299944  0.242745   \n",
       "3  0.051634  0.075802  0.133983  0.154546  0.209387  0.251700  0.287552   \n",
       "4  0.154031  0.201728  0.270414  0.283799  0.343050  0.340233  0.379244   \n",
       "\n",
       "          7         8         9  ...       216       217       218       219  \\\n",
       "0  0.326427  0.282340  0.216756  ...  0.748339  0.757575  0.768130  0.777062   \n",
       "1  0.464230  0.476011  0.477219  ...  0.333931  0.276307  0.211513  0.159223   \n",
       "2  0.210555  0.180739  0.169717  ...  0.709371  0.746826  0.781436  0.788292   \n",
       "3  0.333000  0.340617  0.393592  ...  0.075046  0.056651  0.079884  0.147469   \n",
       "4  0.378511  0.373017  0.364702  ...  0.255070  0.242396  0.271287  0.328828   \n",
       "\n",
       "        220       221       222       223       224       225  \n",
       "0  0.769173  0.768253  0.738704  0.739460  0.702139  0.702238  \n",
       "1  0.110982  0.083130  0.099780  0.145420  0.260501  0.343857  \n",
       "2  0.828630  0.835166  0.845859  0.846032  0.836724  0.846779  \n",
       "3  0.213112  0.298096  0.382823  0.489381  0.562383  0.599247  \n",
       "4  0.397950  0.486436  0.530573  0.582752  0.637296  0.637238  \n",
       "\n",
       "[5 rows x 226 columns]"
      ]
     },
     "execution_count": 3,
     "metadata": {},
     "output_type": "execute_result"
    }
   ],
   "source": [
    "test = pd.read_csv('test.csv')\n",
    "\n",
    "del test[\"id\"]\n",
    "test.head()"
   ]
  },
  {
   "cell_type": "code",
   "execution_count": 29,
   "metadata": {},
   "outputs": [
    {
     "data": {
      "text/plain": [
       "array([24.66666667, 14.        , 18.        , ..., 11.        ,\n",
       "        5.        ,  2.        ])"
      ]
     },
     "execution_count": 29,
     "metadata": {},
     "output_type": "execute_result"
    }
   ],
   "source": [
    "pred2 = base.predict(test)\n",
    "pred2"
   ]
  },
  {
   "cell_type": "code",
   "execution_count": 30,
   "metadata": {},
   "outputs": [
    {
     "name": "stdout",
     "output_type": "stream",
     "text": [
      "Running time : 1782.4595866203308 sec\n"
     ]
    }
   ],
   "source": [
    "# No CV version\n",
    "import time\n",
    "from sklearn.ensemble import RandomForestRegressor\n",
    "\n",
    "start = time.time()\n",
    "\n",
    "base = RandomForestRegressor(random_state=0, n_estimators=3)\n",
    "base.fit(X, y4)\n",
    "\n",
    "print(\"Running time :\", time.time() - start, \"sec\")  # 실행 시간"
   ]
  },
  {
   "cell_type": "code",
   "execution_count": 31,
   "metadata": {},
   "outputs": [
    {
     "data": {
      "text/plain": [
       "array([ 8.33333333, 12.        , 15.66666667, ...,  3.33333333,\n",
       "       14.33333333,  8.33333333])"
      ]
     },
     "execution_count": 31,
     "metadata": {},
     "output_type": "execute_result"
    }
   ],
   "source": [
    "pred4 = base.predict(test)\n",
    "pred4"
   ]
  },
  {
   "cell_type": "markdown",
   "metadata": {},
   "source": [
    "### baseline: n_estimator=10"
   ]
  },
  {
   "cell_type": "code",
   "execution_count": 32,
   "metadata": {},
   "outputs": [
    {
     "name": "stdout",
     "output_type": "stream",
     "text": [
      "Running time : 6875.956134557724 sec\n"
     ]
    }
   ],
   "source": [
    "# No CV version\n",
    "import time\n",
    "from sklearn.ensemble import RandomForestRegressor\n",
    "\n",
    "start = time.time()\n",
    "\n",
    "base_10 = RandomForestRegressor(random_state=0, n_estimators=10)\n",
    "base_10.fit(X, y2)\n",
    "\n",
    "print(\"Running time :\", time.time() - start, \"sec\")  # 실행 시간"
   ]
  },
  {
   "cell_type": "code",
   "execution_count": 33,
   "metadata": {},
   "outputs": [
    {
     "data": {
      "text/plain": [
       "array([23.4, 13.2, 17.3, ..., 18.6,  4.5,  1.8])"
      ]
     },
     "execution_count": 33,
     "metadata": {},
     "output_type": "execute_result"
    }
   ],
   "source": [
    "pred2_10 = base_10.predict(test)\n",
    "pred2_10"
   ]
  },
  {
   "cell_type": "code",
   "execution_count": 34,
   "metadata": {},
   "outputs": [
    {
     "name": "stdout",
     "output_type": "stream",
     "text": [
      "Running time : 13919.85361123085 sec\n"
     ]
    }
   ],
   "source": [
    "# No CV version\n",
    "import time\n",
    "from sklearn.ensemble import RandomForestRegressor\n",
    "\n",
    "start = time.time()\n",
    "\n",
    "base4_10 = RandomForestRegressor(random_state=0, n_estimators=10)\n",
    "base4_10.fit(X, y4)\n",
    "\n",
    "print(\"Running time :\", time.time() - start, \"sec\")  # 실행 시간"
   ]
  },
  {
   "cell_type": "code",
   "execution_count": 35,
   "metadata": {},
   "outputs": [
    {
     "data": {
      "text/plain": [
       "array([ 8.3, 11.2, 15.9, ..., 11.6,  8.2,  7.3])"
      ]
     },
     "execution_count": 35,
     "metadata": {},
     "output_type": "execute_result"
    }
   ],
   "source": [
    "pred4_10 = base4_10.predict(test)\n",
    "pred4_10"
   ]
  },
  {
   "cell_type": "code",
   "execution_count": 36,
   "metadata": {},
   "outputs": [],
   "source": [
    "pred2_10 = pd.DataFrame(pred2_10 * 10)\n",
    "pred4_10 = pd.DataFrame(pred4_10 * 10)"
   ]
  },
  {
   "cell_type": "code",
   "execution_count": 37,
   "metadata": {},
   "outputs": [],
   "source": [
    "preds2 = pd.concat([pred2_10, pred4_10],axis=1)"
   ]
  },
  {
   "cell_type": "code",
   "execution_count": 38,
   "metadata": {},
   "outputs": [],
   "source": [
    "preds2.to_csv('pred2.csv')"
   ]
  },
  {
   "cell_type": "markdown",
   "metadata": {},
   "source": [
    "### LGBM"
   ]
  },
  {
   "cell_type": "code",
   "execution_count": 4,
   "metadata": {},
   "outputs": [],
   "source": [
    "import lightgbm as lgbm\n",
    "from sklearn.model_selection import cross_val_score, train_test_split\n",
    "from bayes_opt import BayesianOptimization"
   ]
  },
  {
   "cell_type": "code",
   "execution_count": 13,
   "metadata": {},
   "outputs": [],
   "source": [
    "train_val, valid = train_test_split(train, test_size=0.3, random_state=0)"
   ]
  },
  {
   "cell_type": "code",
   "execution_count": 14,
   "metadata": {},
   "outputs": [],
   "source": [
    "X_val = train_val.iloc[:,4:]\n",
    "y1_val = train_val.loc[:, train_val.columns == 'layer_1']/10\n",
    "y2_val = train_val.loc[:, train_val.columns == 'layer_2']/10\n",
    "y3_val = train_val.loc[:, train_val.columns == 'layer_3']/10\n",
    "y4_val = train_val.loc[:, train_val.columns == 'layer_4']/10\n",
    "\n",
    "X_val_val = valid.iloc[:,4:]\n",
    "y1_val_val = valid.loc[:, valid.columns == 'layer_1']/10\n",
    "y2_val_val = valid.loc[:, valid.columns == 'layer_2']/10\n",
    "y3_val_val = valid.loc[:, valid.columns == 'layer_3']/10\n",
    "y4_val_val = valid.loc[:, valid.columns == 'layer_4']/10"
   ]
  },
  {
   "cell_type": "code",
   "execution_count": 15,
   "metadata": {
    "collapsed": true
   },
   "outputs": [
    {
     "name": "stdout",
     "output_type": "stream",
     "text": [
      "|   iter    |  target   | lambda_l1 | lambda_l2 | max_depth | min_ch... | min_sp... | num_le... |\n",
      "-------------------------------------------------------------------------------------------------\n",
      "[200]\tcv_agg's l1: 4.86315 + 0.00957146\n",
      "[400]\tcv_agg's l1: 4.17318 + 0.00502523\n",
      "|  1        |  3.961    |  2.744    |  2.146    |  7.405    |  29.52    |  0.04294  |  37.56    |\n",
      "[200]\tcv_agg's l1: 4.95568 + 0.00391501\n",
      "[400]\tcv_agg's l1: 4.27971 + 0.022752\n",
      "|  2        |  4.035    |  2.188    |  2.675    |  8.845    |  22.25    |  0.07938  |  35.11    |\n",
      "[200]\tcv_agg's l1: 5.15405 + 0.0137302\n",
      "[400]\tcv_agg's l1: 4.54509 + 0.020049\n",
      "|  3        |  4.334    |  2.84     |  2.777    |  5.283    |  8.921    |  0.003002 |  41.49    |\n",
      "[200]\tcv_agg's l1: 4.80797 + 0.0134292\n",
      "[400]\tcv_agg's l1: 4.1102 + 0.0125787\n",
      "|  4        |  3.882    |  3.891    |  2.61     |  8.905    |  40.96    |  0.04669  |  40.39    |\n",
      "[200]\tcv_agg's l1: 4.97637 + 0.0168219\n",
      "[400]\tcv_agg's l1: 4.32027 + 0.0112678\n",
      "|  5        |  4.109    |  0.5914   |  1.92     |  5.572    |  47.51    |  0.05266  |  32.71    |\n",
      "[200]\tcv_agg's l1: 5.25299 + 0.0125731\n",
      "[400]\tcv_agg's l1: 4.68304 + 0.00823431\n",
      "|  6        |  4.475    |  5.0      |  0.0      |  5.0      |  5.0      |  0.001    |  24.0     |\n",
      "[200]\tcv_agg's l1: 5.25419 + 0.00734576\n",
      "[400]\tcv_agg's l1: 4.68996 + 0.00936944\n",
      "|  7        |  4.486    |  0.0      |  3.0      |  5.0      |  5.0      |  0.001    |  24.0     |\n",
      "[200]\tcv_agg's l1: 5.13537 + 0.0153433\n",
      "[400]\tcv_agg's l1: 4.53669 + 0.0105492\n",
      "|  8        |  4.327    |  0.0      |  0.0      |  5.0      |  5.0      |  0.1      |  45.0     |\n",
      "[200]\tcv_agg's l1: 5.25769 + 0.0155414\n",
      "[400]\tcv_agg's l1: 4.67865 + 0.013198\n",
      "|  9        |  4.47     |  5.0      |  3.0      |  5.0      |  5.0      |  0.1      |  24.0     |\n",
      "[200]\tcv_agg's l1: 5.25411 + 0.00939064\n",
      "[400]\tcv_agg's l1: 4.67406 + 0.00996889\n",
      "|  10       |  4.475    |  5.0      |  0.0      |  5.0      |  50.0     |  0.001    |  24.0     |\n",
      "[200]\tcv_agg's l1: 5.26087 + 0.0184466\n",
      "[400]\tcv_agg's l1: 4.66795 + 0.0118618\n",
      "|  11       |  4.459    |  5.0      |  3.0      |  5.0      |  50.0     |  0.001    |  24.0     |\n",
      "[200]\tcv_agg's l1: 5.14032 + 0.0113024\n",
      "[400]\tcv_agg's l1: 4.52926 + 0.0124293\n",
      "|  12       |  4.315    |  5.0      |  0.0      |  5.0      |  5.0      |  0.001    |  33.1     |\n",
      "[200]\tcv_agg's l1: 5.25299 + 0.0125729\n",
      "[400]\tcv_agg's l1: 4.68154 + 0.0069151\n",
      "|  13       |  4.473    |  5.0      |  0.0      |  5.0      |  20.5     |  0.001    |  24.0     |\n",
      "[200]\tcv_agg's l1: 5.25984 + 0.0162299\n",
      "[400]\tcv_agg's l1: 4.68874 + 0.028154\n",
      "|  14       |  4.481    |  5.0      |  0.0      |  5.0      |  37.96    |  0.001    |  24.0     |\n",
      "[200]\tcv_agg's l1: 5.24662 + 0.0199248\n",
      "[400]\tcv_agg's l1: 4.63589 + 0.0134526\n",
      "|  15       |  4.381    |  0.0      |  0.0      |  8.99     |  50.0     |  0.001    |  24.0     |\n",
      "[200]\tcv_agg's l1: 5.26373 + 0.0117068\n",
      "[400]\tcv_agg's l1: 4.67873 + 0.0171184\n",
      "|  16       |  4.473    |  0.0      |  0.0      |  5.0      |  13.8     |  0.1      |  24.0     |\n",
      "[200]\tcv_agg's l1: 5.25385 + 0.01055\n",
      "[400]\tcv_agg's l1: 4.68511 + 0.0129685\n",
      "|  17       |  4.48     |  0.0      |  3.0      |  5.0      |  28.98    |  0.001    |  24.0     |\n",
      "[200]\tcv_agg's l1: 5.14701 + 0.0213628\n",
      "[400]\tcv_agg's l1: 4.53001 + 0.00844999\n",
      "|  18       |  4.326    |  5.0      |  3.0      |  5.0      |  5.0      |  0.001    |  45.0     |\n",
      "[200]\tcv_agg's l1: 5.27443 + 0.0173545\n",
      "[400]\tcv_agg's l1: 4.68907 + 0.0224069\n",
      "|  19       |  4.485    |  0.0      |  0.0      |  5.0      |  43.29    |  0.001    |  24.0     |\n",
      "[200]\tcv_agg's l1: 5.2585 + 0.0220042\n",
      "[400]\tcv_agg's l1: 4.67898 + 0.0250658\n",
      "|  20       |  4.47     |  0.0      |  0.0      |  5.0      |  30.58    |  0.001    |  24.0     |\n",
      "=================================================================================================\n"
     ]
    }
   ],
   "source": [
    "## LightGBM\n",
    "import warnings\n",
    "warnings.filterwarnings('ignore')\n",
    "\n",
    "d_train = lgbm.Dataset(X_val, y1_val)\n",
    "d_test = lgbm.Dataset(X_val_val, y1_val_val)\n",
    "\n",
    "n_folds = 3\n",
    "random_seed=6\n",
    "\n",
    "# BayesianOptimization\n",
    "def lgb_eval(num_leaves, max_depth, lambda_l1, lambda_l2, min_split_gain, min_child_weight):\n",
    "    params = {'application':'regression',\n",
    "              'num_iterations': 500 ,\n",
    "              'learning_rate':0.05,\n",
    "              'early_stopping_round':100,\n",
    "              \"num_threads\" : 20 ,\n",
    "              'metric':'l1'\n",
    "             }\n",
    "    params[\"num_leaves\"] = int(round(num_leaves))\n",
    "    params['max_depth'] = int(round(max_depth))\n",
    "    params['lambda_l1'] = max(lambda_l1, 0)\n",
    "    params['lambda_l2'] = max(lambda_l2, 0)\n",
    "    params['min_split_gain'] = min_split_gain\n",
    "    params['min_child_weight'] = min_child_weight\n",
    "    cv_result = lgbm.cv(params, d_train,\n",
    "                       nfold=n_folds, seed=random_seed,\n",
    "                       stratified=False, verbose_eval =200,\n",
    "                       metrics=['l1']\n",
    "                        )\n",
    "    return min(cv_result['l1-mean'])\n",
    "\n",
    "lgbBO1 = BayesianOptimization(lgb_eval, {'num_leaves': (24, 45),\n",
    "                                        'max_depth': (5, 8.99),\n",
    "                                        'lambda_l1': (0, 5),\n",
    "                                        'lambda_l2': (0, 3),\n",
    "                                        'min_split_gain': (0.001, 0.1),\n",
    "                                        'min_child_weight': (5, 50)}, random_state=0)\n",
    "init_round = 5\n",
    "opt_round = 15\n",
    "lgbBO1.maximize(init_points=init_round, n_iter=opt_round)"
   ]
  },
  {
   "cell_type": "code",
   "execution_count": 16,
   "metadata": {},
   "outputs": [
    {
     "data": {
      "text/plain": [
       "{'target': 4.485899044745153,\n",
       " 'params': {'lambda_l1': 0.0,\n",
       "  'lambda_l2': 3.0,\n",
       "  'max_depth': 5.0,\n",
       "  'min_child_weight': 5.0,\n",
       "  'min_split_gain': 0.001,\n",
       "  'num_leaves': 24.0}}"
      ]
     },
     "execution_count": 16,
     "metadata": {},
     "output_type": "execute_result"
    }
   ],
   "source": [
    "lgbBO1.max"
   ]
  },
  {
   "cell_type": "code",
   "execution_count": 17,
   "metadata": {},
   "outputs": [],
   "source": [
    "params1 = {'lambda_l1': int(0.0),\n",
    "          'lambda_l2': int(3.0),\n",
    "          'max_depth': int(5.0),\n",
    "          'min_child_weight': int(5.0),\n",
    "          'min_split_gain': int(0.001),\n",
    "          'num_leaves': int(24.0)}\n",
    "\n",
    "d_train_total = lgbm.Dataset(X, y1)\n",
    "\n",
    "lgb1 = lgbm.train(params1 , d_train_total)\n",
    "lgb_pred_y1 = lgb1.predict( test )\n",
    "lgb_pred_y1"
   ]
  },
  {
   "cell_type": "code",
   "execution_count": 24,
   "metadata": {},
   "outputs": [],
   "source": [
    "lgb_pred_y1 = pd.DataFrame(lgb_pred_y1 * 10)\n",
    "lgb_pred_y1.to_csv('lgb_pred_y1.csv')"
   ]
  },
  {
   "cell_type": "code",
   "execution_count": 25,
   "metadata": {},
   "outputs": [
    {
     "name": "stdout",
     "output_type": "stream",
     "text": [
      "|   iter    |  target   | lambda_l1 | lambda_l2 | max_depth | min_ch... | min_sp... | num_le... |\n",
      "-------------------------------------------------------------------------------------------------\n",
      "[200]\tcv_agg's l1: 6.08798 + 0.0256737\n",
      "[400]\tcv_agg's l1: 5.73075 + 0.0122503\n",
      "|  1        |  5.6      |  2.744    |  2.146    |  7.405    |  29.52    |  0.04294  |  37.56    |\n",
      "[200]\tcv_agg's l1: 6.07929 + 0.0101811\n",
      "[400]\tcv_agg's l1: 5.75946 + 0.0176151\n",
      "|  2        |  5.623    |  2.188    |  2.675    |  8.845    |  22.25    |  0.07938  |  35.11    |\n",
      "[200]\tcv_agg's l1: 6.21155 + 0.00991632\n",
      "[400]\tcv_agg's l1: 5.92794 + 0.0029828\n",
      "|  3        |  5.825    |  2.84     |  2.777    |  5.283    |  8.921    |  0.003002 |  41.49    |\n",
      "[200]\tcv_agg's l1: 6.05766 + 0.0164542\n",
      "[400]\tcv_agg's l1: 5.67342 + 0.0122309\n",
      "|  4        |  5.527    |  3.891    |  2.61     |  8.905    |  40.96    |  0.04669  |  40.39    |\n",
      "[200]\tcv_agg's l1: 6.13291 + 0.00894902\n",
      "[400]\tcv_agg's l1: 5.8251 + 0.0114764\n",
      "|  5        |  5.697    |  0.5914   |  1.92     |  5.572    |  47.51    |  0.05266  |  32.71    |\n",
      "[200]\tcv_agg's l1: 6.25004 + 0.0143585\n",
      "[400]\tcv_agg's l1: 5.98655 + 0.00722213\n",
      "|  6        |  5.892    |  5.0      |  0.0      |  5.0      |  5.0      |  0.001    |  24.0     |\n",
      "[200]\tcv_agg's l1: 6.25152 + 0.0118598\n",
      "[400]\tcv_agg's l1: 5.97978 + 0.0141608\n",
      "|  7        |  5.88     |  0.0      |  3.0      |  5.0      |  5.0      |  0.001    |  24.0     |\n",
      "[200]\tcv_agg's l1: 6.20152 + 0.0170991\n",
      "[400]\tcv_agg's l1: 5.9183 + 0.000351401\n",
      "|  8        |  5.806    |  0.0      |  0.0      |  5.0      |  5.0      |  0.1      |  45.0     |\n",
      "[200]\tcv_agg's l1: 6.25486 + 0.00870475\n",
      "[400]\tcv_agg's l1: 5.97736 + 0.00284327\n",
      "|  9        |  5.888    |  5.0      |  3.0      |  5.0      |  50.0     |  0.001    |  24.0     |\n",
      "[200]\tcv_agg's l1: 6.25867 + 0.0168376\n",
      "[400]\tcv_agg's l1: 5.98699 + 0.00903511\n",
      "|  10       |  5.891    |  5.0      |  3.0      |  5.0      |  5.0      |  0.1      |  24.0     |\n",
      "[200]\tcv_agg's l1: 6.25785 + 0.00971723\n",
      "[400]\tcv_agg's l1: 5.97632 + 0.00851349\n",
      "|  11       |  5.883    |  5.0      |  0.0      |  5.0      |  50.0     |  0.001    |  24.0     |\n",
      "[200]\tcv_agg's l1: 6.19775 + 0.00715407\n",
      "[400]\tcv_agg's l1: 5.91536 + 0.00892484\n",
      "|  12       |  5.809    |  5.0      |  3.0      |  5.0      |  5.0      |  0.001    |  33.95    |\n",
      "[200]\tcv_agg's l1: 6.26075 + 0.018119\n",
      "[400]\tcv_agg's l1: 5.98916 + 0.0109504\n",
      "|  13       |  5.879    |  5.0      |  0.0      |  5.0      |  20.55    |  0.001    |  24.0     |\n",
      "[200]\tcv_agg's l1: 6.2609 + 0.00891199\n",
      "[400]\tcv_agg's l1: 5.98237 + 0.0159838\n",
      "|  14       |  5.877    |  0.0      |  3.0      |  5.0      |  50.0     |  0.001    |  24.0     |\n",
      "[200]\tcv_agg's l1: 6.26346 + 0.0183789\n",
      "[400]\tcv_agg's l1: 5.98542 + 0.0218992\n",
      "|  15       |  5.887    |  5.0      |  3.0      |  5.0      |  38.65    |  0.001    |  24.0     |\n",
      "[200]\tcv_agg's l1: 6.19775 + 0.00715407\n",
      "[400]\tcv_agg's l1: 5.91536 + 0.00892484\n",
      "|  16       |  5.809    |  5.0      |  3.0      |  5.0      |  5.0      |  0.001    |  45.0     |\n",
      "[200]\tcv_agg's l1: 6.25152 + 0.0118598\n",
      "[400]\tcv_agg's l1: 5.97978 + 0.0141608\n",
      "|  17       |  5.88     |  0.0      |  3.0      |  5.0      |  15.2     |  0.1      |  24.0     |\n",
      "[200]\tcv_agg's l1: 6.25867 + 0.0168376\n",
      "[400]\tcv_agg's l1: 5.98699 + 0.00903511\n",
      "|  18       |  5.891    |  5.0      |  3.0      |  5.0      |  11.46    |  0.001    |  24.0     |\n",
      "[200]\tcv_agg's l1: 6.26113 + 0.0117244\n",
      "[400]\tcv_agg's l1: 5.98361 + 0.0102921\n",
      "|  19       |  5.881    |  0.0      |  0.0      |  5.0      |  38.51    |  0.001    |  24.0     |\n",
      "[200]\tcv_agg's l1: 6.26132 + 0.010145\n",
      "[400]\tcv_agg's l1: 5.98365 + 0.0137878\n",
      "|  20       |  5.881    |  0.0      |  3.0      |  5.0      |  28.52    |  0.001    |  24.0     |\n",
      "=================================================================================================\n"
     ]
    }
   ],
   "source": [
    "## LightGBM - y2\n",
    "import warnings\n",
    "warnings.filterwarnings('ignore')\n",
    "\n",
    "d_train = lgbm.Dataset(X_val, y2_val)\n",
    "d_test = lgbm.Dataset(X_val_val, y2_val_val)\n",
    "\n",
    "n_folds = 3\n",
    "random_seed=6\n",
    "\n",
    "# BayesianOptimization\n",
    "def lgb_eval(num_leaves, max_depth, lambda_l1, lambda_l2, min_split_gain, min_child_weight):\n",
    "    params = {'application':'regression',\n",
    "              'num_iterations': 500 ,\n",
    "              'learning_rate':0.05,\n",
    "              'early_stopping_round':100,\n",
    "              \"num_threads\" : 20 ,\n",
    "              'metric':'l1'\n",
    "             }\n",
    "    params[\"num_leaves\"] = int(round(num_leaves))\n",
    "    params['max_depth'] = int(round(max_depth))\n",
    "    params['lambda_l1'] = max(lambda_l1, 0)\n",
    "    params['lambda_l2'] = max(lambda_l2, 0)\n",
    "    params['min_split_gain'] = min_split_gain\n",
    "    params['min_child_weight'] = min_child_weight\n",
    "    cv_result = lgbm.cv(params, d_train,\n",
    "                       nfold=n_folds, seed=random_seed,\n",
    "                       stratified=False, verbose_eval =200,\n",
    "                       metrics=['l1']\n",
    "                        )\n",
    "    return min(cv_result['l1-mean'])\n",
    "\n",
    "lgbBO2 = BayesianOptimization(lgb_eval, {'num_leaves': (24, 45),\n",
    "                                        'max_depth': (5, 8.99),\n",
    "                                        'lambda_l1': (0, 5),\n",
    "                                        'lambda_l2': (0, 3),\n",
    "                                        'min_split_gain': (0.001, 0.1),\n",
    "                                        'min_child_weight': (5, 50)}, random_state=0)\n",
    "init_round = 5\n",
    "opt_round = 15\n",
    "lgbBO2.maximize(init_points=init_round, n_iter=opt_round)"
   ]
  },
  {
   "cell_type": "code",
   "execution_count": 26,
   "metadata": {},
   "outputs": [
    {
     "data": {
      "text/plain": [
       "{'target': 5.891882643811129,\n",
       " 'params': {'lambda_l1': 5.0,\n",
       "  'lambda_l2': 0.0,\n",
       "  'max_depth': 5.0,\n",
       "  'min_child_weight': 5.0,\n",
       "  'min_split_gain': 0.001,\n",
       "  'num_leaves': 24.0}}"
      ]
     },
     "execution_count": 26,
     "metadata": {},
     "output_type": "execute_result"
    }
   ],
   "source": [
    "lgbBO2.max"
   ]
  },
  {
   "cell_type": "code",
   "execution_count": 27,
   "metadata": {},
   "outputs": [
    {
     "data": {
      "text/plain": [
       "array([20.31079885, 15.42380454, 16.06380165, ..., 15.08866384,\n",
       "       10.78714147, 11.51589352])"
      ]
     },
     "execution_count": 27,
     "metadata": {},
     "output_type": "execute_result"
    }
   ],
   "source": [
    "params2 = {'lambda_l1': int(5.0),\n",
    "          'lambda_l2': int(0.0),\n",
    "          'max_depth': int(5.0),\n",
    "          'min_child_weight': int(5.0),\n",
    "          'min_split_gain': int(0.001),\n",
    "          'num_leaves': int(24.0)}\n",
    "\n",
    "d_train_total = lgbm.Dataset(X, y2)\n",
    "\n",
    "lgb2 = lgbm.train(params2 , d_train_total)\n",
    "lgb_pred_y2 = lgb2.predict( test )\n",
    "lgb_pred_y2"
   ]
  },
  {
   "cell_type": "code",
   "execution_count": 28,
   "metadata": {},
   "outputs": [],
   "source": [
    "lgb_pred_y2 = pd.DataFrame(lgb_pred_y2 * 10)\n",
    "lgb_pred_y2.to_csv('lgb_pred_y2.csv')"
   ]
  },
  {
   "cell_type": "markdown",
   "metadata": {},
   "source": [
    "### XGBoost"
   ]
  },
  {
   "cell_type": "code",
   "execution_count": 5,
   "metadata": {},
   "outputs": [],
   "source": [
    "import xgboost as xgb"
   ]
  },
  {
   "cell_type": "code",
   "execution_count": 6,
   "metadata": {},
   "outputs": [],
   "source": [
    "dtrain = xgb.DMatrix(X, y1)"
   ]
  },
  {
   "cell_type": "code",
   "execution_count": 52,
   "metadata": {},
   "outputs": [],
   "source": [
    "params = {'n_estimators': 3,'objective': 'reg:linear','eval_metric':'mae', 'silent': 1}\n",
    "scores = xgb.cv(params, dtrain, num_boost_round=5,verbose_eval=False, nfold=2, metrics = 'mae')"
   ]
  },
  {
   "cell_type": "code",
   "execution_count": 53,
   "metadata": {},
   "outputs": [
    {
     "data": {
      "text/html": [
       "<div>\n",
       "<style scoped>\n",
       "    .dataframe tbody tr th:only-of-type {\n",
       "        vertical-align: middle;\n",
       "    }\n",
       "\n",
       "    .dataframe tbody tr th {\n",
       "        vertical-align: top;\n",
       "    }\n",
       "\n",
       "    .dataframe thead th {\n",
       "        text-align: right;\n",
       "    }\n",
       "</style>\n",
       "<table border=\"1\" class=\"dataframe\">\n",
       "  <thead>\n",
       "    <tr style=\"text-align: right;\">\n",
       "      <th></th>\n",
       "      <th>train-mae-mean</th>\n",
       "      <th>train-mae-std</th>\n",
       "      <th>test-mae-mean</th>\n",
       "      <th>test-mae-std</th>\n",
       "    </tr>\n",
       "  </thead>\n",
       "  <tbody>\n",
       "    <tr>\n",
       "      <td>0</td>\n",
       "      <td>10.980198</td>\n",
       "      <td>0.000501</td>\n",
       "      <td>10.983896</td>\n",
       "      <td>0.005826</td>\n",
       "    </tr>\n",
       "    <tr>\n",
       "      <td>1</td>\n",
       "      <td>8.840144</td>\n",
       "      <td>0.023163</td>\n",
       "      <td>8.846964</td>\n",
       "      <td>0.024793</td>\n",
       "    </tr>\n",
       "    <tr>\n",
       "      <td>2</td>\n",
       "      <td>7.706995</td>\n",
       "      <td>0.060823</td>\n",
       "      <td>7.721520</td>\n",
       "      <td>0.056216</td>\n",
       "    </tr>\n",
       "    <tr>\n",
       "      <td>3</td>\n",
       "      <td>7.029834</td>\n",
       "      <td>0.028354</td>\n",
       "      <td>7.050923</td>\n",
       "      <td>0.019483</td>\n",
       "    </tr>\n",
       "    <tr>\n",
       "      <td>4</td>\n",
       "      <td>6.616729</td>\n",
       "      <td>0.024814</td>\n",
       "      <td>6.643199</td>\n",
       "      <td>0.009596</td>\n",
       "    </tr>\n",
       "  </tbody>\n",
       "</table>\n",
       "</div>"
      ],
      "text/plain": [
       "   train-mae-mean  train-mae-std  test-mae-mean  test-mae-std\n",
       "0       10.980198       0.000501      10.983896      0.005826\n",
       "1        8.840144       0.023163       8.846964      0.024793\n",
       "2        7.706995       0.060823       7.721520      0.056216\n",
       "3        7.029834       0.028354       7.050923      0.019483\n",
       "4        6.616729       0.024814       6.643199      0.009596"
      ]
     },
     "execution_count": 53,
     "metadata": {},
     "output_type": "execute_result"
    }
   ],
   "source": [
    "scores"
   ]
  },
  {
   "cell_type": "code",
   "execution_count": null,
   "metadata": {},
   "outputs": [],
   "source": [
    "## Xgboost\n",
    "import warnings\n",
    "warnings.filterwarnings('ignore')\n",
    "\n",
    "dtrain = xgb.DMatrix(X, label=y1)"
   ]
  },
  {
   "cell_type": "code",
   "execution_count": 11,
   "metadata": {},
   "outputs": [],
   "source": [
    "## XGBoost\n",
    "\n",
    "def xgb_eval(max_depth,\n",
    "              gamma,\n",
    "              min_child_weight,\n",
    "              max_delta_step,\n",
    "              subsample,\n",
    "              colsample_bytree):\n",
    "    params = { 'booster' : 'gbtree',\n",
    "              'max_depth' : int(max_depth),\n",
    "              'gamma' : gamma,\n",
    "              'eta' : 0.1,\n",
    "              'objective' : 'reg:linear',\n",
    "              'silent' : True,\n",
    "              'eval_metric': 'mae',\n",
    "              'subsample' : max(min(subsample, 1), 0),\n",
    "              'colsample_bytree' : max(min(colsample_bytree, 1), 0),\n",
    "              'min_child_weight' : min_child_weight,\n",
    "              'max_delta_step' : int(max_delta_step),\n",
    "              'seed' : 1001 }\n",
    "\n",
    "    cv_result = xgb.cv(\n",
    "                    params,\n",
    "                    dtrain,\n",
    "                    stratified = True,\n",
    "                    nfold = 3,\n",
    "                    num_boost_round = 30,\n",
    "                    verbose_eval = 10,\n",
    "                    early_stopping_rounds = 20,\n",
    "                    metrics = \"mae\")\n",
    "    return max(cv_result['train-mae-mean'])\n"
   ]
  },
  {
   "cell_type": "code",
   "execution_count": 12,
   "metadata": {},
   "outputs": [
    {
     "name": "stdout",
     "output_type": "stream",
     "text": [
      "|   iter    |  target   | colsam... |   gamma   | max_de... | max_depth | min_ch... | subsample |\n",
      "-------------------------------------------------------------------------------------------------\n",
      "[0]\ttrain-mae:13.5507+0.00328908\ttest-mae:13.5525+0.00316964\n",
      "[10]\ttrain-mae:7.271+0.0212275\ttest-mae:7.28827+0.0207631\n",
      "[20]\ttrain-mae:5.9617+0.0217233\ttest-mae:5.99479+0.0167528\n",
      "[29]\ttrain-mae:5.49509+0.00567125\ttest-mae:5.53932+0.0077873\n",
      "|  1        |  13.55    |  0.2058   |  7.734    |  0.02481  |  7.882    |  18.04    |  0.4877   |\n",
      "[0]\ttrain-mae:13.5618+0.00105991\ttest-mae:13.5614+0.00236934\n",
      "[10]\ttrain-mae:7.43547+0.00982094\ttest-mae:7.44311+0.0106746\n",
      "[20]\ttrain-mae:6.22922+0.00394494\ttest-mae:6.2448+0.00859541\n",
      "[29]\ttrain-mae:5.79409+0.00992039\ttest-mae:5.8152+0.0117471\n",
      "|  2        |  13.56    |  0.2902   |  5.348    |  0.7253   |  6.539    |  9.281    |  0.1153   |\n",
      "[0]\ttrain-mae:14.0333+4.54606e-06\ttest-mae:14.0333+4.18994e-06\n",
      "[10]\ttrain-mae:8.40593+0.00128953\ttest-mae:8.4063+0.00218509\n",
      "[20]\ttrain-mae:7.51904+0.00188597\ttest-mae:7.52203+0.00152329\n",
      "[29]\ttrain-mae:7.35234+0.00721076\ttest-mae:7.35595+0.00690274\n",
      "|  3        |  14.03    |  1.0      |  10.0     |  10.0     |  2.0      |  0.0      |  1.0      |\n",
      "[0]\ttrain-mae:14.0333+1.13137e-05\ttest-mae:14.0333+8.48528e-06\n",
      "[10]\ttrain-mae:8.4061+0.00153823\ttest-mae:8.40641+0.00237828\n",
      "[20]\ttrain-mae:7.51849+0.00240413\ttest-mae:7.52112+0.000841103\n",
      "[29]\ttrain-mae:7.35182+0.0075413\ttest-mae:7.35523+0.00694935\n",
      "|  4        |  14.03    |  1.0      |  0.001    |  10.0     |  2.0      |  20.0     |  1.0      |\n",
      "[0]\ttrain-mae:14.0334+8.17856e-06\ttest-mae:14.0334+1.14407e-05\n",
      "[10]\ttrain-mae:8.0273+0.00851506\ttest-mae:8.0444+0.00758448\n",
      "[20]\ttrain-mae:6.16134+0.00471585\ttest-mae:6.2131+0.0074889\n",
      "[29]\ttrain-mae:5.41209+0.00950814\ttest-mae:5.49146+0.014883\n",
      "|  5        |  14.03    |  1.0      |  0.001    |  10.0     |  8.0      |  0.0      |  1.0      |\n",
      "=================================================================================================\n"
     ]
    }
   ],
   "source": [
    "xgb_bo1 = BayesianOptimization(xgb_eval, {'max_depth': (2, 8),\n",
    "                                          'gamma': (0.001),\n",
    "                                          'min_child_weight': (0, 20),\n",
    "                                          'max_delta_step': (0, 10),\n",
    "                                          'subsample': (0.0, 1.0),\n",
    "                                          'colsample_bytree' :(0.0, 1.0)})\n",
    "\n",
    "init_round = 2\n",
    "opt_round = 3\n",
    "xgb_bo1.maximize(init_points=init_round, n_iter=opt_round)\n",
    "\n"
   ]
  },
  {
   "cell_type": "code",
   "execution_count": 13,
   "metadata": {},
   "outputs": [
    {
     "data": {
      "text/plain": [
       "{'target': 14.033368666666666,\n",
       " 'params': {'colsample_bytree': 1.0,\n",
       "  'gamma': 0.001,\n",
       "  'max_delta_step': 10.0,\n",
       "  'max_depth': 8.0,\n",
       "  'min_child_weight': 0.0,\n",
       "  'subsample': 1.0}}"
      ]
     },
     "execution_count": 13,
     "metadata": {},
     "output_type": "execute_result"
    }
   ],
   "source": [
    "xgb_bo1.max"
   ]
  },
  {
   "cell_type": "code",
   "execution_count": 25,
   "metadata": {},
   "outputs": [],
   "source": [
    "# del test['id']\n",
    "dtest = xgb.DMatrix( test )"
   ]
  },
  {
   "cell_type": "code",
   "execution_count": 19,
   "metadata": {},
   "outputs": [],
   "source": [
    "params1 = {'colsample_bytree': int(1.0),\n",
    "          'gamma': int(0.001),\n",
    "          'max_delta_step': int(10.0),\n",
    "          'max_depth': int(8.0),\n",
    "          'min_child_weight': int(0.0),\n",
    "          'subsample': int(1.0)}\n",
    "\n",
    "xgb1 = xgb.train(params1 , dtrain)"
   ]
  },
  {
   "cell_type": "code",
   "execution_count": 35,
   "metadata": {},
   "outputs": [
    {
     "data": {
      "text/plain": [
       "array([22.188948,  7.943536, 17.393732, ..., 11.935744,  9.936696,\n",
       "       10.222967], dtype=float32)"
      ]
     },
     "execution_count": 35,
     "metadata": {},
     "output_type": "execute_result"
    }
   ],
   "source": [
    "xgb_pred_y1 = xgb1.predict( dtest )\n",
    "xgb_pred_y1"
   ]
  },
  {
   "cell_type": "code",
   "execution_count": 21,
   "metadata": {},
   "outputs": [],
   "source": [
    "xgb_pred_y1 = pd.DataFrame(xgb_pred_y1 * 10)\n",
    "xgb_pred_y1.to_csv('xgb_pred_y1.csv')"
   ]
  },
  {
   "cell_type": "markdown",
   "metadata": {},
   "source": [
    "#### y2"
   ]
  },
  {
   "cell_type": "code",
   "execution_count": 24,
   "metadata": {},
   "outputs": [],
   "source": [
    "## Xgboost\n",
    "import warnings\n",
    "warnings.filterwarnings('ignore')\n",
    "\n",
    "dtrain = xgb.DMatrix(X, label=y2)"
   ]
  },
  {
   "cell_type": "code",
   "execution_count": 25,
   "metadata": {},
   "outputs": [
    {
     "data": {
      "text/plain": [
       "{'target': 11.533334000000002,\n",
       " 'params': {'colsample_bytree': 0.29109503084901,\n",
       "  'gamma': 4.162993661451414,\n",
       "  'max_delta_step': 2.7444376555691354,\n",
       "  'max_depth': 4.50404889863046,\n",
       "  'min_child_weight': 11.12565947123895,\n",
       "  'subsample': 0.7925704757239624}}"
      ]
     },
     "execution_count": 25,
     "metadata": {},
     "output_type": "execute_result"
    }
   ],
   "source": [
    "xgb_bo2.max"
   ]
  },
  {
   "cell_type": "code",
   "execution_count": 44,
   "metadata": {},
   "outputs": [],
   "source": [
    "# params1 = {'colsample_bytree': int(1.0),\n",
    "#           'gamma': int(0.001),\n",
    "#           'max_delta_step': int(10.0),\n",
    "#           'max_depth': int(8.0),\n",
    "#           'min_child_weight': int(0.0),\n",
    "#           'subsample': int(1.0)}\n",
    "\n",
    "params2 = {'colsample_bytree': int(1),\n",
    "          'gamma': int(0.001),\n",
    "          'max_delta_step': int(10),\n",
    "          'max_depth': int(8),\n",
    "          'min_child_weight': int(0.0),\n",
    "          'subsample': int(1)}\n",
    "\n",
    "xgb2 = xgb.train(params2 , dtrain)"
   ]
  },
  {
   "cell_type": "code",
   "execution_count": 46,
   "metadata": {},
   "outputs": [
    {
     "data": {
      "text/plain": [
       "array([18.945454, 15.256061, 14.147975, ..., 14.175552, 11.63875 ,\n",
       "       12.289859], dtype=float32)"
      ]
     },
     "execution_count": 46,
     "metadata": {},
     "output_type": "execute_result"
    }
   ],
   "source": [
    "xgb_pred_y2 = xgb2.predict( dtest )\n",
    "xgb_pred_y2"
   ]
  },
  {
   "cell_type": "code",
   "execution_count": 47,
   "metadata": {},
   "outputs": [],
   "source": [
    "xgb_pred_y2 = pd.DataFrame(xgb_pred_y2 * 10)\n",
    "xgb_pred_y2.to_csv('xgb_pred_y2.csv')"
   ]
  },
  {
   "cell_type": "code",
   "execution_count": null,
   "metadata": {},
   "outputs": [],
   "source": []
  },
  {
   "cell_type": "code",
   "execution_count": 48,
   "metadata": {},
   "outputs": [
    {
     "data": {
      "text/plain": [
       "array([15.422844 , 18.862568 , 19.726646 , ..., 16.5971   , 10.200529 ,\n",
       "        6.6876884], dtype=float32)"
      ]
     },
     "execution_count": 48,
     "metadata": {},
     "output_type": "execute_result"
    }
   ],
   "source": [
    "dtrain = xgb.DMatrix(X, label=y3)\n",
    "xgb3 = xgb.train(params2 , dtrain)\n",
    "xgb_pred_y3 = xgb3.predict( dtest )\n",
    "xgb_pred_y3"
   ]
  },
  {
   "cell_type": "code",
   "execution_count": 49,
   "metadata": {},
   "outputs": [],
   "source": [
    "xgb_pred_y3 = pd.DataFrame(xgb_pred_y3 * 10)\n",
    "xgb_pred_y3.to_csv('xgb_pred_y3.csv')"
   ]
  },
  {
   "cell_type": "code",
   "execution_count": null,
   "metadata": {},
   "outputs": [],
   "source": []
  },
  {
   "cell_type": "code",
   "execution_count": 50,
   "metadata": {},
   "outputs": [
    {
     "data": {
      "text/plain": [
       "array([13.497682, 14.346597, 17.919598, ..., 15.718689, 14.08509 ,\n",
       "        9.98105 ], dtype=float32)"
      ]
     },
     "execution_count": 50,
     "metadata": {},
     "output_type": "execute_result"
    }
   ],
   "source": [
    "dtrain = xgb.DMatrix(X, label=y4)\n",
    "xgb4 = xgb.train(params2 , dtrain)\n",
    "xgb_pred_y4 = xgb4.predict( dtest )\n",
    "xgb_pred_y4"
   ]
  },
  {
   "cell_type": "code",
   "execution_count": 51,
   "metadata": {},
   "outputs": [],
   "source": [
    "xgb_pred_y4 = pd.DataFrame(xgb_pred_y4 * 10)\n",
    "xgb_pred_y4.to_csv('xgb_pred_y4.csv')"
   ]
  },
  {
   "cell_type": "code",
   "execution_count": null,
   "metadata": {},
   "outputs": [],
   "source": []
  }
 ],
 "metadata": {
  "kernelspec": {
   "display_name": "Python 3",
   "language": "python",
   "name": "python3"
  },
  "language_info": {
   "codemirror_mode": {
    "name": "ipython",
    "version": 3
   },
   "file_extension": ".py",
   "mimetype": "text/x-python",
   "name": "python",
   "nbconvert_exporter": "python",
   "pygments_lexer": "ipython3",
   "version": "3.7.4"
  }
 },
 "nbformat": 4,
 "nbformat_minor": 2
}
