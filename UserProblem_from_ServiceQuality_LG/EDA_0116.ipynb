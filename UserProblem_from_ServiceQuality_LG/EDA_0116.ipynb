{
 "cells": [
  {
   "cell_type": "code",
   "execution_count": 2,
   "metadata": {},
   "outputs": [],
   "source": [
    "import pandas as pd\n",
    "import numpy as np\n",
    "import datetime as dt\n",
    "import matplotlib.pyplot as plt\n",
    "%matplotlib inline\n",
    "from tqdm import tqdm\n",
    "import gc\n",
    "import random\n",
    "import lightgbm as lgb\n",
    "import re\n",
    "from sklearn.metrics import *\n",
    "from sklearn.model_selection import KFold\n",
    "from pycaret.classification import *\n",
    "import warnings\n",
    "warnings.filterwarnings(action='ignore')\n",
    "\n",
    "PATH = 'C:/Users/JYW/Desktop/Github/repository/Dacon/UserProblem_from_ServiceQuality_LG/data/'"
   ]
  },
  {
   "cell_type": "markdown",
   "metadata": {},
   "source": [
    "## 1. Train_err"
   ]
  },
  {
   "cell_type": "code",
   "execution_count": 4,
   "metadata": {},
   "outputs": [
    {
     "name": "stdout",
     "output_type": "stream",
     "text": [
      "(16554663, 6)\n"
     ]
    },
    {
     "data": {
      "text/html": [
       "<div>\n",
       "<style scoped>\n",
       "    .dataframe tbody tr th:only-of-type {\n",
       "        vertical-align: middle;\n",
       "    }\n",
       "\n",
       "    .dataframe tbody tr th {\n",
       "        vertical-align: top;\n",
       "    }\n",
       "\n",
       "    .dataframe thead th {\n",
       "        text-align: right;\n",
       "    }\n",
       "</style>\n",
       "<table border=\"1\" class=\"dataframe\">\n",
       "  <thead>\n",
       "    <tr style=\"text-align: right;\">\n",
       "      <th></th>\n",
       "      <th>user_id</th>\n",
       "      <th>time</th>\n",
       "      <th>model_nm</th>\n",
       "      <th>fwver</th>\n",
       "      <th>errtype</th>\n",
       "      <th>errcode</th>\n",
       "    </tr>\n",
       "  </thead>\n",
       "  <tbody>\n",
       "    <tr>\n",
       "      <th>0</th>\n",
       "      <td>10000</td>\n",
       "      <td>20201101025616</td>\n",
       "      <td>model_3</td>\n",
       "      <td>05.15.2138</td>\n",
       "      <td>15</td>\n",
       "      <td>1</td>\n",
       "    </tr>\n",
       "    <tr>\n",
       "      <th>1</th>\n",
       "      <td>10000</td>\n",
       "      <td>20201101030309</td>\n",
       "      <td>model_3</td>\n",
       "      <td>05.15.2138</td>\n",
       "      <td>12</td>\n",
       "      <td>1</td>\n",
       "    </tr>\n",
       "    <tr>\n",
       "      <th>2</th>\n",
       "      <td>10000</td>\n",
       "      <td>20201101030309</td>\n",
       "      <td>model_3</td>\n",
       "      <td>05.15.2138</td>\n",
       "      <td>11</td>\n",
       "      <td>1</td>\n",
       "    </tr>\n",
       "    <tr>\n",
       "      <th>3</th>\n",
       "      <td>10000</td>\n",
       "      <td>20201101050514</td>\n",
       "      <td>model_3</td>\n",
       "      <td>05.15.2138</td>\n",
       "      <td>16</td>\n",
       "      <td>1</td>\n",
       "    </tr>\n",
       "    <tr>\n",
       "      <th>4</th>\n",
       "      <td>10000</td>\n",
       "      <td>20201101050515</td>\n",
       "      <td>model_3</td>\n",
       "      <td>05.15.2138</td>\n",
       "      <td>4</td>\n",
       "      <td>0</td>\n",
       "    </tr>\n",
       "  </tbody>\n",
       "</table>\n",
       "</div>"
      ],
      "text/plain": [
       "   user_id            time model_nm       fwver  errtype errcode\n",
       "0    10000  20201101025616  model_3  05.15.2138       15       1\n",
       "1    10000  20201101030309  model_3  05.15.2138       12       1\n",
       "2    10000  20201101030309  model_3  05.15.2138       11       1\n",
       "3    10000  20201101050514  model_3  05.15.2138       16       1\n",
       "4    10000  20201101050515  model_3  05.15.2138        4       0"
      ]
     },
     "execution_count": 4,
     "metadata": {},
     "output_type": "execute_result"
    }
   ],
   "source": [
    "train_err = pd.read_csv(PATH+'train_err_data.csv')\n",
    "print(train_err.shape)\n",
    "train_err.head()"
   ]
  },
  {
   "cell_type": "markdown",
   "metadata": {},
   "source": [
    "### 1-1. user_id"
   ]
  },
  {
   "cell_type": "markdown",
   "metadata": {},
   "source": [
    "unique ids"
   ]
  },
  {
   "cell_type": "code",
   "execution_count": null,
   "metadata": {},
   "outputs": [],
   "source": [
    "train_err.user_id.unique()"
   ]
  },
  {
   "cell_type": "markdown",
   "metadata": {},
   "source": [
    "number of unique ids"
   ]
  },
  {
   "cell_type": "code",
   "execution_count": 6,
   "metadata": {},
   "outputs": [
    {
     "data": {
      "text/plain": [
       "15000"
      ]
     },
     "execution_count": 6,
     "metadata": {},
     "output_type": "execute_result"
    }
   ],
   "source": [
    "len(train_err.user_id.unique())"
   ]
  },
  {
   "cell_type": "markdown",
   "metadata": {},
   "source": [
    "frequency of each ids\n",
    "- right skewed"
   ]
  },
  {
   "cell_type": "code",
   "execution_count": 9,
   "metadata": {},
   "outputs": [
    {
     "name": "stdout",
     "output_type": "stream",
     "text": [
      "24934    222186\n",
      "20546    195538\n",
      "15570    175730\n",
      "20352     83680\n",
      "11041     66093\n",
      "          ...  \n",
      "19372         1\n",
      "18544         1\n",
      "20099         1\n",
      "13198         1\n",
      "12367         1\n",
      "Name: user_id, Length: 15000, dtype: int64\n"
     ]
    },
    {
     "data": {
      "text/plain": [
       "(array([4.16679794e-04, 2.10635281e-05, 5.49091973e-06, 2.73045735e-06,\n",
       "        1.08018093e-06, 9.00150775e-07, 5.70095491e-07, 1.80030155e-07,\n",
       "        3.30055284e-07, 1.80030155e-07, 1.80030155e-07, 6.00100517e-08,\n",
       "        6.00100517e-08, 0.00000000e+00, 3.00050258e-08, 3.00050258e-08,\n",
       "        6.00100517e-08, 9.00150775e-08, 3.00050258e-08, 3.00050258e-08,\n",
       "        3.00050258e-08, 3.00050258e-08, 3.00050258e-08, 6.00100517e-08,\n",
       "        0.00000000e+00, 0.00000000e+00, 0.00000000e+00, 0.00000000e+00,\n",
       "        0.00000000e+00, 3.00050258e-08, 0.00000000e+00, 0.00000000e+00,\n",
       "        0.00000000e+00, 0.00000000e+00, 0.00000000e+00, 0.00000000e+00,\n",
       "        0.00000000e+00, 3.00050258e-08, 0.00000000e+00, 0.00000000e+00,\n",
       "        0.00000000e+00, 0.00000000e+00, 0.00000000e+00, 0.00000000e+00,\n",
       "        0.00000000e+00, 0.00000000e+00, 0.00000000e+00, 0.00000000e+00,\n",
       "        0.00000000e+00, 0.00000000e+00, 0.00000000e+00, 0.00000000e+00,\n",
       "        0.00000000e+00, 0.00000000e+00, 0.00000000e+00, 0.00000000e+00,\n",
       "        0.00000000e+00, 0.00000000e+00, 0.00000000e+00, 0.00000000e+00,\n",
       "        0.00000000e+00, 0.00000000e+00, 0.00000000e+00, 0.00000000e+00,\n",
       "        0.00000000e+00, 0.00000000e+00, 0.00000000e+00, 0.00000000e+00,\n",
       "        0.00000000e+00, 0.00000000e+00, 0.00000000e+00, 0.00000000e+00,\n",
       "        0.00000000e+00, 0.00000000e+00, 0.00000000e+00, 0.00000000e+00,\n",
       "        0.00000000e+00, 0.00000000e+00, 0.00000000e+00, 3.00050258e-08,\n",
       "        0.00000000e+00, 0.00000000e+00, 0.00000000e+00, 0.00000000e+00,\n",
       "        0.00000000e+00, 0.00000000e+00, 0.00000000e+00, 0.00000000e+00,\n",
       "        3.00050258e-08, 0.00000000e+00, 0.00000000e+00, 0.00000000e+00,\n",
       "        0.00000000e+00, 0.00000000e+00, 0.00000000e+00, 0.00000000e+00,\n",
       "        0.00000000e+00, 0.00000000e+00, 0.00000000e+00, 3.00050258e-08]),\n",
       " array([1.0000000e+00, 2.2228500e+03, 4.4447000e+03, 6.6665500e+03,\n",
       "        8.8884000e+03, 1.1110250e+04, 1.3332100e+04, 1.5553950e+04,\n",
       "        1.7775800e+04, 1.9997650e+04, 2.2219500e+04, 2.4441350e+04,\n",
       "        2.6663200e+04, 2.8885050e+04, 3.1106900e+04, 3.3328750e+04,\n",
       "        3.5550600e+04, 3.7772450e+04, 3.9994300e+04, 4.2216150e+04,\n",
       "        4.4438000e+04, 4.6659850e+04, 4.8881700e+04, 5.1103550e+04,\n",
       "        5.3325400e+04, 5.5547250e+04, 5.7769100e+04, 5.9990950e+04,\n",
       "        6.2212800e+04, 6.4434650e+04, 6.6656500e+04, 6.8878350e+04,\n",
       "        7.1100200e+04, 7.3322050e+04, 7.5543900e+04, 7.7765750e+04,\n",
       "        7.9987600e+04, 8.2209450e+04, 8.4431300e+04, 8.6653150e+04,\n",
       "        8.8875000e+04, 9.1096850e+04, 9.3318700e+04, 9.5540550e+04,\n",
       "        9.7762400e+04, 9.9984250e+04, 1.0220610e+05, 1.0442795e+05,\n",
       "        1.0664980e+05, 1.0887165e+05, 1.1109350e+05, 1.1331535e+05,\n",
       "        1.1553720e+05, 1.1775905e+05, 1.1998090e+05, 1.2220275e+05,\n",
       "        1.2442460e+05, 1.2664645e+05, 1.2886830e+05, 1.3109015e+05,\n",
       "        1.3331200e+05, 1.3553385e+05, 1.3775570e+05, 1.3997755e+05,\n",
       "        1.4219940e+05, 1.4442125e+05, 1.4664310e+05, 1.4886495e+05,\n",
       "        1.5108680e+05, 1.5330865e+05, 1.5553050e+05, 1.5775235e+05,\n",
       "        1.5997420e+05, 1.6219605e+05, 1.6441790e+05, 1.6663975e+05,\n",
       "        1.6886160e+05, 1.7108345e+05, 1.7330530e+05, 1.7552715e+05,\n",
       "        1.7774900e+05, 1.7997085e+05, 1.8219270e+05, 1.8441455e+05,\n",
       "        1.8663640e+05, 1.8885825e+05, 1.9108010e+05, 1.9330195e+05,\n",
       "        1.9552380e+05, 1.9774565e+05, 1.9996750e+05, 2.0218935e+05,\n",
       "        2.0441120e+05, 2.0663305e+05, 2.0885490e+05, 2.1107675e+05,\n",
       "        2.1329860e+05, 2.1552045e+05, 2.1774230e+05, 2.1996415e+05,\n",
       "        2.2218600e+05]),\n",
       " <BarContainer object of 100 artists>)"
      ]
     },
     "execution_count": 9,
     "metadata": {},
     "output_type": "execute_result"
    },
    {
     "data": {
      "image/png": "[encoded data removed]",
      "text/plain": [
       "<Figure size 432x288 with 1 Axes>"
      ]
     },
     "metadata": {
      "needs_background": "light"
     },
     "output_type": "display_data"
    }
   ],
   "source": [
    "print(train_err.user_id.value_counts())\n",
    "plt.hist(train_err.user_id.value_counts(), bins=100, density=True, alpha=0.4)"
   ]
  },
  {
   "cell_type": "markdown",
   "metadata": {},
   "source": [
    "### 1-2. time"
   ]
  },
  {
   "cell_type": "markdown",
   "metadata": {},
   "source": [
    "range of time"
   ]
  },
  {
   "cell_type": "code",
   "execution_count": 11,
   "metadata": {},
   "outputs": [
    {
     "name": "stdout",
     "output_type": "stream",
     "text": [
      "20201031235959\n",
      "20201202185152\n"
     ]
    }
   ],
   "source": [
    "print(train_err.time.min())\n",
    "print(train_err.time.max())"
   ]
  },
  {
   "cell_type": "markdown",
   "metadata": {},
   "source": [
    " frequency of time"
   ]
  },
  {
   "cell_type": "code",
   "execution_count": 12,
   "metadata": {},
   "outputs": [
    {
     "data": {
      "text/plain": [
       "(array([1.76678053e-13, 0.00000000e+00, 0.00000000e+00, 0.00000000e+00,\n",
       "        0.00000000e+00, 0.00000000e+00, 0.00000000e+00, 0.00000000e+00,\n",
       "        0.00000000e+00, 0.00000000e+00, 0.00000000e+00, 0.00000000e+00,\n",
       "        0.00000000e+00, 0.00000000e+00, 0.00000000e+00, 0.00000000e+00,\n",
       "        0.00000000e+00, 0.00000000e+00, 0.00000000e+00, 0.00000000e+00,\n",
       "        0.00000000e+00, 0.00000000e+00, 0.00000000e+00, 0.00000000e+00,\n",
       "        0.00000000e+00, 0.00000000e+00, 0.00000000e+00, 0.00000000e+00,\n",
       "        0.00000000e+00, 0.00000000e+00, 0.00000000e+00, 0.00000000e+00,\n",
       "        0.00000000e+00, 0.00000000e+00, 0.00000000e+00, 0.00000000e+00,\n",
       "        0.00000000e+00, 0.00000000e+00, 0.00000000e+00, 0.00000000e+00,\n",
       "        2.08231693e-08, 2.15173727e-08, 3.46555061e-08, 3.84339076e-08,\n",
       "        3.43098885e-08, 2.60514616e-08, 3.68559253e-08, 3.64515799e-08,\n",
       "        2.05220393e-08, 3.91504785e-08, 3.72963130e-08, 2.90476034e-08,\n",
       "        3.24943095e-08, 4.05303341e-08, 3.96394173e-08, 1.86081919e-08,\n",
       "        3.96681098e-08, 3.89104790e-08, 0.00000000e+00, 0.00000000e+00,\n",
       "        0.00000000e+00, 0.00000000e+00, 0.00000000e+00, 0.00000000e+00,\n",
       "        0.00000000e+00, 0.00000000e+00, 0.00000000e+00, 0.00000000e+00,\n",
       "        0.00000000e+00, 0.00000000e+00, 0.00000000e+00, 0.00000000e+00,\n",
       "        0.00000000e+00, 0.00000000e+00, 0.00000000e+00, 0.00000000e+00,\n",
       "        0.00000000e+00, 0.00000000e+00, 0.00000000e+00, 0.00000000e+00,\n",
       "        0.00000000e+00, 0.00000000e+00, 0.00000000e+00, 0.00000000e+00,\n",
       "        0.00000000e+00, 0.00000000e+00, 0.00000000e+00, 0.00000000e+00,\n",
       "        0.00000000e+00, 0.00000000e+00, 0.00000000e+00, 0.00000000e+00,\n",
       "        0.00000000e+00, 0.00000000e+00, 0.00000000e+00, 0.00000000e+00,\n",
       "        0.00000000e+00, 0.00000000e+00, 0.00000000e+00, 2.86218446e-12]),\n",
       " array([2.02010312e+13, 2.02010329e+13, 2.02010347e+13, 2.02010364e+13,\n",
       "        2.02010381e+13, 2.02010398e+13, 2.02010415e+13, 2.02010432e+13,\n",
       "        2.02010449e+13, 2.02010466e+13, 2.02010483e+13, 2.02010500e+13,\n",
       "        2.02010517e+13, 2.02010535e+13, 2.02010552e+13, 2.02010569e+13,\n",
       "        2.02010586e+13, 2.02010603e+13, 2.02010620e+13, 2.02010637e+13,\n",
       "        2.02010654e+13, 2.02010671e+13, 2.02010688e+13, 2.02010706e+13,\n",
       "        2.02010723e+13, 2.02010740e+13, 2.02010757e+13, 2.02010774e+13,\n",
       "        2.02010791e+13, 2.02010808e+13, 2.02010825e+13, 2.02010842e+13,\n",
       "        2.02010859e+13, 2.02010876e+13, 2.02010894e+13, 2.02010911e+13,\n",
       "        2.02010928e+13, 2.02010945e+13, 2.02010962e+13, 2.02010979e+13,\n",
       "        2.02010996e+13, 2.02011013e+13, 2.02011030e+13, 2.02011047e+13,\n",
       "        2.02011065e+13, 2.02011082e+13, 2.02011099e+13, 2.02011116e+13,\n",
       "        2.02011133e+13, 2.02011150e+13, 2.02011167e+13, 2.02011184e+13,\n",
       "        2.02011201e+13, 2.02011218e+13, 2.02011235e+13, 2.02011253e+13,\n",
       "        2.02011270e+13, 2.02011287e+13, 2.02011304e+13, 2.02011321e+13,\n",
       "        2.02011338e+13, 2.02011355e+13, 2.02011372e+13, 2.02011389e+13,\n",
       "        2.02011406e+13, 2.02011424e+13, 2.02011441e+13, 2.02011458e+13,\n",
       "        2.02011475e+13, 2.02011492e+13, 2.02011509e+13, 2.02011526e+13,\n",
       "        2.02011543e+13, 2.02011560e+13, 2.02011577e+13, 2.02011594e+13,\n",
       "        2.02011612e+13, 2.02011629e+13, 2.02011646e+13, 2.02011663e+13,\n",
       "        2.02011680e+13, 2.02011697e+13, 2.02011714e+13, 2.02011731e+13,\n",
       "        2.02011748e+13, 2.02011765e+13, 2.02011783e+13, 2.02011800e+13,\n",
       "        2.02011817e+13, 2.02011834e+13, 2.02011851e+13, 2.02011868e+13,\n",
       "        2.02011885e+13, 2.02011902e+13, 2.02011919e+13, 2.02011936e+13,\n",
       "        2.02011953e+13, 2.02011971e+13, 2.02011988e+13, 2.02012005e+13,\n",
       "        2.02012022e+13]),\n",
       " <BarContainer object of 100 artists>)"
      ]
     },
     "execution_count": 12,
     "metadata": {},
     "output_type": "execute_result"
    },
    {
     "data": {
      "image/png": "[encoded data removed]",
      "text/plain": [
       "<Figure size 432x288 with 1 Axes>"
      ]
     },
     "metadata": {
      "needs_background": "light"
     },
     "output_type": "display_data"
    }
   ],
   "source": [
    "plt.hist(train_err.time, bins=100, density=True, alpha=0.4)"
   ]
  },
  {
   "cell_type": "markdown",
   "metadata": {},
   "source": [
    "11월 8일 2시20분~32분이 right skewed의 주범"
   ]
  },
  {
   "cell_type": "code",
   "execution_count": 13,
   "metadata": {},
   "outputs": [
    {
     "data": {
      "text/plain": [
       "20201108023257    631\n",
       "20201108023253    585\n",
       "20201108022122    526\n",
       "20201108022121    521\n",
       "20201108023256    490\n",
       "20201108023254    420\n",
       "20201107230752    418\n",
       "20201108022120    417\n",
       "20201108023250    395\n",
       "20201108023251    387\n",
       "20201108023252    368\n",
       "20201108022123    348\n",
       "20201108023258    318\n",
       "20201108022124    239\n",
       "20201108023255    237\n",
       "Name: time, dtype: int64"
      ]
     },
     "execution_count": 13,
     "metadata": {},
     "output_type": "execute_result"
    }
   ],
   "source": [
    "train_err.time.value_counts().head(15) "
   ]
  },
  {
   "cell_type": "markdown",
   "metadata": {},
   "source": [
    "### 1-3. model_nm"
   ]
  },
  {
   "cell_type": "code",
   "execution_count": 14,
   "metadata": {},
   "outputs": [
    {
     "data": {
      "text/plain": [
       "array(['model_3', 'model_2', 'model_0', 'model_1', 'model_7', 'model_4',\n",
       "       'model_5', 'model_8', 'model_6'], dtype=object)"
      ]
     },
     "execution_count": 14,
     "metadata": {},
     "output_type": "execute_result"
    }
   ],
   "source": [
    "train_err.model_nm.unique()"
   ]
  },
  {
   "cell_type": "code",
   "execution_count": 15,
   "metadata": {},
   "outputs": [
    {
     "data": {
      "text/plain": [
       "model_1    5384491\n",
       "model_0    4176279\n",
       "model_2    3473254\n",
       "model_3    1907438\n",
       "model_4    1507802\n",
       "model_8      36064\n",
       "model_7      35356\n",
       "model_5      32233\n",
       "model_6       1746\n",
       "Name: model_nm, dtype: int64"
      ]
     },
     "execution_count": 15,
     "metadata": {},
     "output_type": "execute_result"
    }
   ],
   "source": [
    "train_err.model_nm.value_counts()"
   ]
  },
  {
   "cell_type": "markdown",
   "metadata": {},
   "source": [
    "### 1-4. fwver"
   ]
  },
  {
   "cell_type": "code",
   "execution_count": 17,
   "metadata": {},
   "outputs": [
    {
     "name": "stdout",
     "output_type": "stream",
     "text": [
      "37\n"
     ]
    },
    {
     "data": {
      "text/plain": [
       "array(['05.15.2138', '04.33.1185', '04.33.1261', '04.22.1750',\n",
       "       '04.22.1778', '04.16.3553', '04.33.1149', '04.16.3571',\n",
       "       '05.66.3237', '05.66.3571', '03.11.1149', '04.22.1684',\n",
       "       '03.11.1167', '04.82.1684', '04.82.1778', '04.33.1171',\n",
       "       '04.73.2237', '10', '04.82.1730', '04.73.2571', '8.5.3',\n",
       "       '04.22.1666', '03.11.1141', '05.15.2120', '04.33.1125',\n",
       "       '04.16.3439', '04.22.1442', '04.33.1095', '04.16.3569',\n",
       "       '05.15.2090', '05.15.3104', '05.15.2122', '04.22.1656',\n",
       "       '04.16.2641', '05.15.2114', '04.16.3345', '05.15.2092'],\n",
       "      dtype=object)"
      ]
     },
     "execution_count": 17,
     "metadata": {},
     "output_type": "execute_result"
    }
   ],
   "source": [
    "print(len(train_err.fwver.unique()))\n",
    "train_err.fwver.unique()"
   ]
  },
  {
   "cell_type": "code",
   "execution_count": 18,
   "metadata": {},
   "outputs": [
    {
     "data": {
      "text/plain": [
       "04.16.3553    5237816\n",
       "04.22.1750    2874213\n",
       "04.33.1261    2504871\n",
       "05.15.2138    1906479\n",
       "03.11.1167    1505659\n",
       "04.22.1778    1293946\n",
       "04.33.1185     963736\n",
       "04.16.3571     145156\n",
       "04.73.2237      33537\n",
       "05.66.3237      31832\n",
       "04.82.1684      23554\n",
       "04.82.1778       8601\n",
       "04.22.1684       5554\n",
       "05.66.3571       3524\n",
       "04.33.1149       3272\n",
       "04.73.2571       2527\n",
       "04.22.1442       2522\n",
       "03.11.1149       2114\n",
       "10               1534\n",
       "04.16.3569        980\n",
       "04.33.1095        909\n",
       "05.15.2120        706\n",
       "04.33.1125        408\n",
       "04.16.2641        296\n",
       "8.5.3             212\n",
       "05.15.3104        191\n",
       "04.16.3439        142\n",
       "04.16.3345        101\n",
       "04.82.1730         78\n",
       "04.33.1171         58\n",
       "04.22.1656         39\n",
       "03.11.1141         29\n",
       "05.15.2122         23\n",
       "05.15.2092         18\n",
       "05.15.2090         12\n",
       "05.15.2114          9\n",
       "04.22.1666          5\n",
       "Name: fwver, dtype: int64"
      ]
     },
     "execution_count": 18,
     "metadata": {},
     "output_type": "execute_result"
    }
   ],
   "source": [
    "train_err.fwver.value_counts()"
   ]
  },
  {
   "cell_type": "markdown",
   "metadata": {},
   "source": [
    "### 1-5. errtype"
   ]
  },
  {
   "cell_type": "code",
   "execution_count": 19,
   "metadata": {},
   "outputs": [
    {
     "data": {
      "text/plain": [
       "23    2276515\n",
       "31    1985294\n",
       "22    1865361\n",
       "15    1604951\n",
       "4     1296750\n",
       "16    1249376\n",
       "32    1130564\n",
       "5      952920\n",
       "40     730378\n",
       "28     544306\n",
       "27     540804\n",
       "26     536401\n",
       "12     320181\n",
       "11     307030\n",
       "14     252015\n",
       "33     178477\n",
       "34     165536\n",
       "10     133403\n",
       "41     104138\n",
       "7       51993\n",
       "6       50482\n",
       "17      46009\n",
       "24      39071\n",
       "42      34374\n",
       "3       30758\n",
       "2       26106\n",
       "13      22843\n",
       "1       21545\n",
       "39      15820\n",
       "35      10187\n",
       "37       9336\n",
       "36       9317\n",
       "38       4539\n",
       "18       2671\n",
       "20       2080\n",
       "25       1184\n",
       "19        664\n",
       "21        607\n",
       "30        402\n",
       "8         166\n",
       "9         109\n",
       "Name: errtype, dtype: int64"
      ]
     },
     "execution_count": 19,
     "metadata": {},
     "output_type": "execute_result"
    }
   ],
   "source": [
    "train_err.errtype.value_counts()"
   ]
  },
  {
   "cell_type": "code",
   "execution_count": 20,
   "metadata": {},
   "outputs": [
    {
     "data": {
      "text/plain": [
       "(array([3.17425855e-03, 0.00000000e+00, 3.84623781e-03, 0.00000000e+00,\n",
       "        4.53162424e-03, 0.00000000e+00, 0.00000000e+00, 1.91052206e-01,\n",
       "        0.00000000e+00, 1.40395194e-01, 0.00000000e+00, 0.00000000e+00,\n",
       "        7.43759201e-03, 0.00000000e+00, 7.66021000e-03, 0.00000000e+00,\n",
       "        0.00000000e+00, 2.44570396e-05, 0.00000000e+00, 1.60591405e-05,\n",
       "        0.00000000e+00, 1.96544726e-02, 0.00000000e+00, 0.00000000e+00,\n",
       "        4.52352101e-02, 0.00000000e+00, 4.71727675e-02, 0.00000000e+00,\n",
       "        0.00000000e+00, 3.36549492e-03, 0.00000000e+00, 3.71297641e-02,\n",
       "        0.00000000e+00, 0.00000000e+00, 2.36459941e-01, 0.00000000e+00,\n",
       "        1.84072520e-01, 0.00000000e+00, 0.00000000e+00, 6.77857793e-03,\n",
       "        0.00000000e+00, 3.93522607e-04, 0.00000000e+00, 9.78281585e-05,\n",
       "        0.00000000e+00, 0.00000000e+00, 3.06449653e-04, 0.00000000e+00,\n",
       "        8.94302593e-05, 0.00000000e+00, 0.00000000e+00, 2.74826553e-01,\n",
       "        0.00000000e+00, 3.35402515e-01, 0.00000000e+00, 0.00000000e+00,\n",
       "        5.75639153e-03, 0.00000000e+00, 1.74440572e-04, 0.00000000e+00,\n",
       "        7.90287982e-02, 0.00000000e+00, 0.00000000e+00, 7.96774991e-02,\n",
       "        0.00000000e+00, 8.01934542e-02, 0.00000000e+00, 0.00000000e+00,\n",
       "        0.00000000e+00, 0.00000000e+00, 5.92272887e-05, 0.00000000e+00,\n",
       "        0.00000000e+00, 2.92496470e-01, 0.00000000e+00, 1.66567762e-01,\n",
       "        0.00000000e+00, 0.00000000e+00, 2.62952955e-02, 0.00000000e+00,\n",
       "        2.43886778e-02, 0.00000000e+00, 1.50086664e-03, 0.00000000e+00,\n",
       "        0.00000000e+00, 1.37268818e-03, 0.00000000e+00, 1.37548748e-03,\n",
       "        0.00000000e+00, 0.00000000e+00, 6.68737969e-04, 0.00000000e+00,\n",
       "        2.33078534e-03, 0.00000000e+00, 0.00000000e+00, 1.07607733e-01,\n",
       "        0.00000000e+00, 1.53428144e-02, 0.00000000e+00, 5.06437518e-03]),\n",
       " array([ 1.  ,  1.41,  1.82,  2.23,  2.64,  3.05,  3.46,  3.87,  4.28,\n",
       "         4.69,  5.1 ,  5.51,  5.92,  6.33,  6.74,  7.15,  7.56,  7.97,\n",
       "         8.38,  8.79,  9.2 ,  9.61, 10.02, 10.43, 10.84, 11.25, 11.66,\n",
       "        12.07, 12.48, 12.89, 13.3 , 13.71, 14.12, 14.53, 14.94, 15.35,\n",
       "        15.76, 16.17, 16.58, 16.99, 17.4 , 17.81, 18.22, 18.63, 19.04,\n",
       "        19.45, 19.86, 20.27, 20.68, 21.09, 21.5 , 21.91, 22.32, 22.73,\n",
       "        23.14, 23.55, 23.96, 24.37, 24.78, 25.19, 25.6 , 26.01, 26.42,\n",
       "        26.83, 27.24, 27.65, 28.06, 28.47, 28.88, 29.29, 29.7 , 30.11,\n",
       "        30.52, 30.93, 31.34, 31.75, 32.16, 32.57, 32.98, 33.39, 33.8 ,\n",
       "        34.21, 34.62, 35.03, 35.44, 35.85, 36.26, 36.67, 37.08, 37.49,\n",
       "        37.9 , 38.31, 38.72, 39.13, 39.54, 39.95, 40.36, 40.77, 41.18,\n",
       "        41.59, 42.  ]),\n",
       " <BarContainer object of 100 artists>)"
      ]
     },
     "execution_count": 20,
     "metadata": {},
     "output_type": "execute_result"
    },
    {
     "data": {
      "image/png": "[encoded data removed]",
      "text/plain": [
       "<Figure size 432x288 with 1 Axes>"
      ]
     },
     "metadata": {
      "needs_background": "light"
     },
     "output_type": "display_data"
    }
   ],
   "source": [
    "plt.hist(train_err.errtype, bins=100, density=True, alpha=0.4)"
   ]
  },
  {
   "cell_type": "markdown",
   "metadata": {},
   "source": [
    "### 1-6. err_code"
   ]
  },
  {
   "cell_type": "code",
   "execution_count": 21,
   "metadata": {},
   "outputs": [
    {
     "data": {
      "text/plain": [
       "2806"
      ]
     },
     "execution_count": 21,
     "metadata": {},
     "output_type": "execute_result"
    }
   ],
   "source": [
    "len(train_err.errcode.unique())"
   ]
  },
  {
   "cell_type": "code",
   "execution_count": 22,
   "metadata": {},
   "outputs": [
    {
     "data": {
      "text/plain": [
       "1                     8906967\n",
       "0                     2599123\n",
       "connection timeout    1835600\n",
       "B-A8002                897863\n",
       "80                     334018\n",
       "                       ...   \n",
       "9288                        1\n",
       "46679                       1\n",
       "52668                       1\n",
       "8172                        1\n",
       "3476                        1\n",
       "Name: errcode, Length: 2805, dtype: int64"
      ]
     },
     "execution_count": 22,
     "metadata": {},
     "output_type": "execute_result"
    }
   ],
   "source": [
    "train_err.errcode.value_counts()"
   ]
  },
  {
   "cell_type": "markdown",
   "metadata": {},
   "source": [
    "대부분의 errcode가 1번씩 발생하나 엄청나게 많이 발생하는 코드들이 존재"
   ]
  },
  {
   "cell_type": "code",
   "execution_count": 24,
   "metadata": {},
   "outputs": [
    {
     "data": {
      "text/plain": [
       "{'whiskers': [<matplotlib.lines.Line2D at 0x215b27afe10>,\n",
       "  <matplotlib.lines.Line2D at 0x215b27bf0f0>],\n",
       " 'caps': [<matplotlib.lines.Line2D at 0x215b27bf400>,\n",
       "  <matplotlib.lines.Line2D at 0x215b27bf6d8>],\n",
       " 'boxes': [<matplotlib.lines.Line2D at 0x215b27afba8>],\n",
       " 'medians': [<matplotlib.lines.Line2D at 0x215b27bf9b0>],\n",
       " 'fliers': [<matplotlib.lines.Line2D at 0x215b27bfc88>],\n",
       " 'means': []}"
      ]
     },
     "execution_count": 24,
     "metadata": {},
     "output_type": "execute_result"
    },
    {
     "data": {
      "image/png": "[encoded data removed]",
      "text/plain": [
       "<Figure size 432x288 with 1 Axes>"
      ]
     },
     "metadata": {
      "needs_background": "light"
     },
     "output_type": "display_data"
    }
   ],
   "source": [
    "plt.boxplot(train_err.errcode.value_counts())"
   ]
  },
  {
   "cell_type": "markdown",
   "metadata": {},
   "source": [
    "- - -\n",
    "\n",
    "## 2. Train_quality"
   ]
  },
  {
   "cell_type": "code",
   "execution_count": 25,
   "metadata": {},
   "outputs": [
    {
     "name": "stdout",
     "output_type": "stream",
     "text": [
      "(828624, 16)\n"
     ]
    },
    {
     "data": {
      "text/html": [
       "<div>\n",
       "<style scoped>\n",
       "    .dataframe tbody tr th:only-of-type {\n",
       "        vertical-align: middle;\n",
       "    }\n",
       "\n",
       "    .dataframe tbody tr th {\n",
       "        vertical-align: top;\n",
       "    }\n",
       "\n",
       "    .dataframe thead th {\n",
       "        text-align: right;\n",
       "    }\n",
       "</style>\n",
       "<table border=\"1\" class=\"dataframe\">\n",
       "  <thead>\n",
       "    <tr style=\"text-align: right;\">\n",
       "      <th></th>\n",
       "      <th>time</th>\n",
       "      <th>user_id</th>\n",
       "      <th>fwver</th>\n",
       "      <th>quality_0</th>\n",
       "      <th>quality_1</th>\n",
       "      <th>quality_2</th>\n",
       "      <th>quality_3</th>\n",
       "      <th>quality_4</th>\n",
       "      <th>quality_5</th>\n",
       "      <th>quality_6</th>\n",
       "      <th>quality_7</th>\n",
       "      <th>quality_8</th>\n",
       "      <th>quality_9</th>\n",
       "      <th>quality_10</th>\n",
       "      <th>quality_11</th>\n",
       "      <th>quality_12</th>\n",
       "    </tr>\n",
       "  </thead>\n",
       "  <tbody>\n",
       "    <tr>\n",
       "      <th>0</th>\n",
       "      <td>20201129090000</td>\n",
       "      <td>10000</td>\n",
       "      <td>05.15.2138</td>\n",
       "      <td>0.0</td>\n",
       "      <td>0</td>\n",
       "      <td>0.0</td>\n",
       "      <td>0</td>\n",
       "      <td>0</td>\n",
       "      <td>0</td>\n",
       "      <td>0</td>\n",
       "      <td>0</td>\n",
       "      <td>0</td>\n",
       "      <td>0</td>\n",
       "      <td>4</td>\n",
       "      <td>0</td>\n",
       "      <td>0</td>\n",
       "    </tr>\n",
       "    <tr>\n",
       "      <th>1</th>\n",
       "      <td>20201129090000</td>\n",
       "      <td>10000</td>\n",
       "      <td>05.15.2138</td>\n",
       "      <td>0.0</td>\n",
       "      <td>0</td>\n",
       "      <td>0.0</td>\n",
       "      <td>0</td>\n",
       "      <td>0</td>\n",
       "      <td>0</td>\n",
       "      <td>0</td>\n",
       "      <td>0</td>\n",
       "      <td>0</td>\n",
       "      <td>0</td>\n",
       "      <td>4</td>\n",
       "      <td>0</td>\n",
       "      <td>0</td>\n",
       "    </tr>\n",
       "    <tr>\n",
       "      <th>2</th>\n",
       "      <td>20201129090000</td>\n",
       "      <td>10000</td>\n",
       "      <td>05.15.2138</td>\n",
       "      <td>0.0</td>\n",
       "      <td>0</td>\n",
       "      <td>0.0</td>\n",
       "      <td>0</td>\n",
       "      <td>0</td>\n",
       "      <td>0</td>\n",
       "      <td>0</td>\n",
       "      <td>0</td>\n",
       "      <td>0</td>\n",
       "      <td>0</td>\n",
       "      <td>4</td>\n",
       "      <td>0</td>\n",
       "      <td>0</td>\n",
       "    </tr>\n",
       "    <tr>\n",
       "      <th>3</th>\n",
       "      <td>20201129090000</td>\n",
       "      <td>10000</td>\n",
       "      <td>05.15.2138</td>\n",
       "      <td>0.0</td>\n",
       "      <td>0</td>\n",
       "      <td>0.0</td>\n",
       "      <td>0</td>\n",
       "      <td>0</td>\n",
       "      <td>0</td>\n",
       "      <td>0</td>\n",
       "      <td>0</td>\n",
       "      <td>0</td>\n",
       "      <td>0</td>\n",
       "      <td>4</td>\n",
       "      <td>0</td>\n",
       "      <td>0</td>\n",
       "    </tr>\n",
       "    <tr>\n",
       "      <th>4</th>\n",
       "      <td>20201129090000</td>\n",
       "      <td>10000</td>\n",
       "      <td>05.15.2138</td>\n",
       "      <td>0.0</td>\n",
       "      <td>0</td>\n",
       "      <td>0.0</td>\n",
       "      <td>0</td>\n",
       "      <td>0</td>\n",
       "      <td>0</td>\n",
       "      <td>0</td>\n",
       "      <td>0</td>\n",
       "      <td>0</td>\n",
       "      <td>0</td>\n",
       "      <td>4</td>\n",
       "      <td>0</td>\n",
       "      <td>0</td>\n",
       "    </tr>\n",
       "  </tbody>\n",
       "</table>\n",
       "</div>"
      ],
      "text/plain": [
       "             time  user_id       fwver  quality_0  quality_1  quality_2  \\\n",
       "0  20201129090000    10000  05.15.2138        0.0          0        0.0   \n",
       "1  20201129090000    10000  05.15.2138        0.0          0        0.0   \n",
       "2  20201129090000    10000  05.15.2138        0.0          0        0.0   \n",
       "3  20201129090000    10000  05.15.2138        0.0          0        0.0   \n",
       "4  20201129090000    10000  05.15.2138        0.0          0        0.0   \n",
       "\n",
       "   quality_3  quality_4 quality_5  quality_6 quality_7 quality_8 quality_9  \\\n",
       "0          0          0         0          0         0         0         0   \n",
       "1          0          0         0          0         0         0         0   \n",
       "2          0          0         0          0         0         0         0   \n",
       "3          0          0         0          0         0         0         0   \n",
       "4          0          0         0          0         0         0         0   \n",
       "\n",
       "  quality_10  quality_11  quality_12  \n",
       "0          4           0           0  \n",
       "1          4           0           0  \n",
       "2          4           0           0  \n",
       "3          4           0           0  \n",
       "4          4           0           0  "
      ]
     },
     "execution_count": 25,
     "metadata": {},
     "output_type": "execute_result"
    }
   ],
   "source": [
    "train_quality  = pd.read_csv(PATH+'train_quality_data.csv')\n",
    "print(train_quality.shape)\n",
    "train_quality.head()"
   ]
  },
  {
   "cell_type": "markdown",
   "metadata": {},
   "source": [
    "### 2-1. time"
   ]
  },
  {
   "cell_type": "markdown",
   "metadata": {},
   "source": [
    "train_quality가 train_err의 전체 시간대를 커버하지 못한다."
   ]
  },
  {
   "cell_type": "code",
   "execution_count": 26,
   "metadata": {},
   "outputs": [
    {
     "name": "stdout",
     "output_type": "stream",
     "text": [
      "20201031235000\n",
      "20201130234000\n"
     ]
    }
   ],
   "source": [
    "print(train_quality.time.min())\n",
    "print(train_quality.time.max())"
   ]
  },
  {
   "cell_type": "markdown",
   "metadata": {},
   "source": [
    "train_quality의 time은 모두 10분 단위로 끊어져있다."
   ]
  },
  {
   "cell_type": "code",
   "execution_count": 27,
   "metadata": {},
   "outputs": [
    {
     "data": {
      "text/plain": [
       "20201110143000    948\n",
       "20201110150000    876\n",
       "20201110144000    864\n",
       "20201110142000    828\n",
       "20201110145000    828\n",
       "                 ... \n",
       "20201103041000     12\n",
       "20201123054000     12\n",
       "20201113061000     12\n",
       "20201129055000     12\n",
       "20201108041000     12\n",
       "Name: time, Length: 4319, dtype: int64"
      ]
     },
     "execution_count": 27,
     "metadata": {},
     "output_type": "execute_result"
    }
   ],
   "source": [
    "train_quality.time.value_counts()"
   ]
  },
  {
   "cell_type": "code",
   "execution_count": 28,
   "metadata": {},
   "outputs": [
    {
     "data": {
      "text/plain": [
       "(array([2.63308837e-10, 0.00000000e+00, 0.00000000e+00, 0.00000000e+00,\n",
       "        0.00000000e+00, 0.00000000e+00, 0.00000000e+00, 0.00000000e+00,\n",
       "        0.00000000e+00, 0.00000000e+00, 0.00000000e+00, 0.00000000e+00,\n",
       "        0.00000000e+00, 0.00000000e+00, 0.00000000e+00, 0.00000000e+00,\n",
       "        0.00000000e+00, 0.00000000e+00, 0.00000000e+00, 0.00000000e+00,\n",
       "        0.00000000e+00, 0.00000000e+00, 0.00000000e+00, 0.00000000e+00,\n",
       "        0.00000000e+00, 0.00000000e+00, 0.00000000e+00, 0.00000000e+00,\n",
       "        0.00000000e+00, 0.00000000e+00, 0.00000000e+00, 0.00000000e+00,\n",
       "        0.00000000e+00, 0.00000000e+00, 0.00000000e+00, 0.00000000e+00,\n",
       "        0.00000000e+00, 0.00000000e+00, 0.00000000e+00, 0.00000000e+00,\n",
       "        0.00000000e+00, 0.00000000e+00, 0.00000000e+00, 0.00000000e+00,\n",
       "        0.00000000e+00, 0.00000000e+00, 0.00000000e+00, 0.00000000e+00,\n",
       "        0.00000000e+00, 0.00000000e+00, 0.00000000e+00, 0.00000000e+00,\n",
       "        0.00000000e+00, 0.00000000e+00, 0.00000000e+00, 0.00000000e+00,\n",
       "        0.00000000e+00, 0.00000000e+00, 0.00000000e+00, 0.00000000e+00,\n",
       "        0.00000000e+00, 0.00000000e+00, 0.00000000e+00, 0.00000000e+00,\n",
       "        0.00000000e+00, 0.00000000e+00, 0.00000000e+00, 0.00000000e+00,\n",
       "        0.00000000e+00, 0.00000000e+00, 3.99059171e-08, 3.48006513e-08,\n",
       "        3.56490909e-08, 3.57368605e-08, 3.28989764e-08, 2.92126527e-08,\n",
       "        3.25917828e-08, 4.14418853e-08, 3.40107248e-08, 3.91745037e-08,\n",
       "        3.32061700e-08, 3.32939397e-08, 3.04853121e-08, 3.13776365e-08,\n",
       "        3.11143276e-08, 2.97685269e-08, 3.15970605e-08, 2.84080979e-08,\n",
       "        3.48445361e-08, 3.50932167e-08, 3.37474160e-08, 3.48445361e-08,\n",
       "        3.22553326e-08, 3.30452591e-08, 3.32061700e-08, 2.95344746e-08,\n",
       "        3.78872160e-08, 3.52394994e-08, 3.58685150e-08, 2.96076159e-08]),\n",
       " array([2.02010312e+13, 2.02010322e+13, 2.02010332e+13, 2.02010342e+13,\n",
       "        2.02010352e+13, 2.02010362e+13, 2.02010372e+13, 2.02010382e+13,\n",
       "        2.02010392e+13, 2.02010401e+13, 2.02010411e+13, 2.02010421e+13,\n",
       "        2.02010431e+13, 2.02010441e+13, 2.02010451e+13, 2.02010461e+13,\n",
       "        2.02010471e+13, 2.02010481e+13, 2.02010491e+13, 2.02010500e+13,\n",
       "        2.02010510e+13, 2.02010520e+13, 2.02010530e+13, 2.02010540e+13,\n",
       "        2.02010550e+13, 2.02010560e+13, 2.02010570e+13, 2.02010580e+13,\n",
       "        2.02010590e+13, 2.02010599e+13, 2.02010609e+13, 2.02010619e+13,\n",
       "        2.02010629e+13, 2.02010639e+13, 2.02010649e+13, 2.02010659e+13,\n",
       "        2.02010669e+13, 2.02010679e+13, 2.02010689e+13, 2.02010698e+13,\n",
       "        2.02010708e+13, 2.02010718e+13, 2.02010728e+13, 2.02010738e+13,\n",
       "        2.02010748e+13, 2.02010758e+13, 2.02010768e+13, 2.02010778e+13,\n",
       "        2.02010788e+13, 2.02010797e+13, 2.02010807e+13, 2.02010817e+13,\n",
       "        2.02010827e+13, 2.02010837e+13, 2.02010847e+13, 2.02010857e+13,\n",
       "        2.02010867e+13, 2.02010877e+13, 2.02010887e+13, 2.02010896e+13,\n",
       "        2.02010906e+13, 2.02010916e+13, 2.02010926e+13, 2.02010936e+13,\n",
       "        2.02010946e+13, 2.02010956e+13, 2.02010966e+13, 2.02010976e+13,\n",
       "        2.02010986e+13, 2.02010995e+13, 2.02011005e+13, 2.02011015e+13,\n",
       "        2.02011025e+13, 2.02011035e+13, 2.02011045e+13, 2.02011055e+13,\n",
       "        2.02011065e+13, 2.02011075e+13, 2.02011085e+13, 2.02011094e+13,\n",
       "        2.02011104e+13, 2.02011114e+13, 2.02011124e+13, 2.02011134e+13,\n",
       "        2.02011144e+13, 2.02011154e+13, 2.02011164e+13, 2.02011174e+13,\n",
       "        2.02011184e+13, 2.02011193e+13, 2.02011203e+13, 2.02011213e+13,\n",
       "        2.02011223e+13, 2.02011233e+13, 2.02011243e+13, 2.02011253e+13,\n",
       "        2.02011263e+13, 2.02011273e+13, 2.02011283e+13, 2.02011292e+13,\n",
       "        2.02011302e+13]),\n",
       " <BarContainer object of 100 artists>)"
      ]
     },
     "execution_count": 28,
     "metadata": {},
     "output_type": "execute_result"
    },
    {
     "data": {
      "image/png": "[encoded data removed]",
      "text/plain": [
       "<Figure size 432x288 with 1 Axes>"
      ]
     },
     "metadata": {
      "needs_background": "light"
     },
     "output_type": "display_data"
    }
   ],
   "source": [
    "plt.hist(train_quality.time, bins=100, density=True, alpha=0.4)"
   ]
  },
  {
   "cell_type": "markdown",
   "metadata": {},
   "source": [
    "### 2-2. fwver"
   ]
  },
  {
   "cell_type": "code",
   "execution_count": 29,
   "metadata": {},
   "outputs": [
    {
     "data": {
      "text/plain": [
       "array(['05.15.2138', '04.22.1750', '04.16.3553', '04.33.1261',\n",
       "       '04.22.1778', '04.33.1185', '04.16.3571', '05.66.3571',\n",
       "       '03.11.1149', '03.11.1167', '04.82.1684', '04.82.1778',\n",
       "       '04.33.1149', nan, '05.66.3237', '04.73.2237', '09.17.1431',\n",
       "       '04.22.1684', '05.15.2120', '04.33.1125', '05.15.2122',\n",
       "       '04.22.1666', '04.22.1656', '04.16.3439', '04.73.2571',\n",
       "       '05.15.2114', '04.16.3345', '04.22.1442'], dtype=object)"
      ]
     },
     "execution_count": 29,
     "metadata": {},
     "output_type": "execute_result"
    }
   ],
   "source": [
    "train_quality.fwver.unique()"
   ]
  },
  {
   "cell_type": "markdown",
   "metadata": {},
   "source": [
    "train_err보다 더 적다"
   ]
  },
  {
   "cell_type": "code",
   "execution_count": 30,
   "metadata": {},
   "outputs": [
    {
     "data": {
      "text/plain": [
       "28"
      ]
     },
     "execution_count": 30,
     "metadata": {},
     "output_type": "execute_result"
    }
   ],
   "source": [
    "len(train_quality.fwver.unique())"
   ]
  },
  {
   "cell_type": "code",
   "execution_count": 31,
   "metadata": {},
   "outputs": [
    {
     "data": {
      "text/plain": [
       "05.15.2138    163236\n",
       "04.22.1750    142032\n",
       "04.33.1261    131340\n",
       "04.16.3553    111996\n",
       "03.11.1167    104148\n",
       "04.33.1185     66024\n",
       "04.22.1778     56472\n",
       "04.22.1684      3420\n",
       "09.17.1431      3384\n",
       "04.16.3571      2232\n",
       "04.82.1684      1044\n",
       "04.33.1149       804\n",
       "04.22.1666       636\n",
       "05.66.3237       552\n",
       "04.82.1778       216\n",
       "03.11.1149       204\n",
       "04.73.2237       192\n",
       "04.33.1125       144\n",
       "05.66.3571        96\n",
       "05.15.2114        96\n",
       "04.22.1442        84\n",
       "05.15.2120        84\n",
       "05.15.2122        60\n",
       "04.16.3439        12\n",
       "04.16.3345        12\n",
       "04.22.1656        12\n",
       "04.73.2571        12\n",
       "Name: fwver, dtype: int64"
      ]
     },
     "execution_count": 31,
     "metadata": {},
     "output_type": "execute_result"
    }
   ],
   "source": [
    "train_quality.fwver.value_counts()"
   ]
  },
  {
   "cell_type": "markdown",
   "metadata": {},
   "source": [
    "## 3. Train_problem"
   ]
  },
  {
   "cell_type": "code",
   "execution_count": 32,
   "metadata": {},
   "outputs": [
    {
     "name": "stdout",
     "output_type": "stream",
     "text": [
      "(5429, 2)\n"
     ]
    },
    {
     "data": {
      "text/html": [
       "<div>\n",
       "<style scoped>\n",
       "    .dataframe tbody tr th:only-of-type {\n",
       "        vertical-align: middle;\n",
       "    }\n",
       "\n",
       "    .dataframe tbody tr th {\n",
       "        vertical-align: top;\n",
       "    }\n",
       "\n",
       "    .dataframe thead th {\n",
       "        text-align: right;\n",
       "    }\n",
       "</style>\n",
       "<table border=\"1\" class=\"dataframe\">\n",
       "  <thead>\n",
       "    <tr style=\"text-align: right;\">\n",
       "      <th></th>\n",
       "      <th>user_id</th>\n",
       "      <th>time</th>\n",
       "    </tr>\n",
       "  </thead>\n",
       "  <tbody>\n",
       "    <tr>\n",
       "      <th>0</th>\n",
       "      <td>19224</td>\n",
       "      <td>20201102200000</td>\n",
       "    </tr>\n",
       "    <tr>\n",
       "      <th>1</th>\n",
       "      <td>23664</td>\n",
       "      <td>20201116140000</td>\n",
       "    </tr>\n",
       "    <tr>\n",
       "      <th>2</th>\n",
       "      <td>15166</td>\n",
       "      <td>20201114130000</td>\n",
       "    </tr>\n",
       "    <tr>\n",
       "      <th>3</th>\n",
       "      <td>12590</td>\n",
       "      <td>20201108210000</td>\n",
       "    </tr>\n",
       "    <tr>\n",
       "      <th>4</th>\n",
       "      <td>15932</td>\n",
       "      <td>20201103210000</td>\n",
       "    </tr>\n",
       "  </tbody>\n",
       "</table>\n",
       "</div>"
      ],
      "text/plain": [
       "   user_id            time\n",
       "0    19224  20201102200000\n",
       "1    23664  20201116140000\n",
       "2    15166  20201114130000\n",
       "3    12590  20201108210000\n",
       "4    15932  20201103210000"
      ]
     },
     "execution_count": 32,
     "metadata": {},
     "output_type": "execute_result"
    }
   ],
   "source": [
    "train_problem = pd.read_csv(PATH+'train_problem_data.csv')\n",
    "print(train_problem.shape)\n",
    "train_problem.head()"
   ]
  },
  {
   "cell_type": "code",
   "execution_count": 33,
   "metadata": {},
   "outputs": [
    {
     "data": {
      "text/plain": [
       "24407    5\n",
       "11016    4\n",
       "20636    4\n",
       "11528    4\n",
       "24138    4\n",
       "        ..\n",
       "19613    1\n",
       "19739    1\n",
       "13596    1\n",
       "15645    1\n",
       "14311    1\n",
       "Name: user_id, Length: 5000, dtype: int64"
      ]
     },
     "execution_count": 33,
     "metadata": {},
     "output_type": "execute_result"
    }
   ],
   "source": [
    "train_problem.user_id.value_counts()"
   ]
  },
  {
   "cell_type": "code",
   "execution_count": 34,
   "metadata": {},
   "outputs": [
    {
     "data": {
      "text/plain": [
       "<AxesSubplot:>"
      ]
     },
     "execution_count": 34,
     "metadata": {},
     "output_type": "execute_result"
    },
    {
     "data": {
      "image/png": "[encoded data removed]",
      "text/plain": [
       "<Figure size 1800x648 with 1 Axes>"
      ]
     },
     "metadata": {
      "needs_background": "light"
     },
     "output_type": "display_data"
    }
   ],
   "source": [
    "fig = plt.figure(figsize=(25,9))\n",
    "plt.subplots_adjust(hspace=.5)\n",
    "plt.subplot2grid((3,3), (0,0), colspan = 3)\n",
    "train_problem['user_id'].value_counts()[:100].plot(kind='bar', alpha=0.7)"
   ]
  },
  {
   "cell_type": "code",
   "execution_count": 35,
   "metadata": {},
   "outputs": [
    {
     "name": "stdout",
     "output_type": "stream",
     "text": [
      "5000\n",
      "375\n",
      "4625\n"
     ]
    }
   ],
   "source": [
    "print(len(train_problem.user_id.value_counts()))\n",
    "print(sum(train_problem.user_id.value_counts() > 1))\n",
    "print(sum(train_problem.user_id.value_counts() <= 1))"
   ]
  },
  {
   "cell_type": "markdown",
   "metadata": {},
   "source": [
    "전체 5,000명의 문제제기를 한 유저들 중 대부분이 1건만 문제제기를 했지만 375명의 2건 이상 제기를 한 사람도 존재한다.\n",
    "\n",
    "이들에 대한 세부적인 특징을 반영한 분석이 필요할 듯"
   ]
  }
 ],
 "metadata": {
  "kernelspec": {
   "display_name": "Python 3",
   "language": "python",
   "name": "python3"
  },
  "language_info": {
   "codemirror_mode": {
    "name": "ipython",
    "version": 3
   },
   "file_extension": ".py",
   "mimetype": "text/x-python",
   "name": "python",
   "nbconvert_exporter": "python",
   "pygments_lexer": "ipython3",
   "version": "3.6.10"
  }
 },
 "nbformat": 4,
 "nbformat_minor": 4
}
