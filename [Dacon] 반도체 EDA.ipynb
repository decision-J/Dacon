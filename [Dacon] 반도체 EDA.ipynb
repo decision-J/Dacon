{
 "cells": [
  {
   "cell_type": "markdown",
   "metadata": {},
   "source": [
    "# 월간 Dacon 1. - 반도체 data\n",
    "## 최종 수정일 : 1.26\n",
    "\n",
    "\n",
    "### 리더보드 종료일자: 2.02 - 본 기간 내에 10회 제출 필수\n",
    "### 코드 제출 기간: 2.03 ~ 09\n",
    "### 내부평가: 2.10 ~ 16\n",
    "### 최종 순위 발표: 2.17\n",
    "\n",
    "--------\n",
    "\n",
    "## Data Description\n",
    "### 1. Target이 4개\n",
    "### 2. train.csv 파일에는 각 층의 두께와 반사율 스펙트럼이 포함\n",
    "### 3. 반도체 박막은 얇은 반도체 막으로 박막의 종류와 두께는 반도체 소자의 특성을 결정짓는 중요한 요소 중 하나입니다. 박막의 두께를 측정하는 방법으로 반사율 측정이 널리 사용되며 반사율은 입사광 세기에 대한 반사광 세기의 비율로 정해집니다. (반사율 = 반사광/입사광) 반사율은 빛의 파장에 따라 변하며 파장에 따른 반사율의 분포를 반사율 스펙트럼이라고 합니다. \n",
    "\n",
    "--------\n",
    "\n",
    "## 비고 \n",
    "### 1. 기간내 최소 10회 이상 제출 필요\n",
    "### 2. 외부 데이터 사용 불가 \n",
    "### 3. 참가 팀 상위 5%까지 인증서 제공\n",
    "\n",
    "--------\n"
   ]
  },
  {
   "cell_type": "markdown",
   "metadata": {},
   "source": [
    "## Module & Read the data"
   ]
  },
  {
   "cell_type": "code",
   "execution_count": 2,
   "metadata": {},
   "outputs": [],
   "source": [
    "import os\n",
    "import numpy as np\n",
    "import pandas as pd \n",
    "from tqdm import tqdm_notebook\n",
    "import matplotlib.pyplot as plt\n",
    "%matplotlib inline\n",
    "\n",
    "import warnings\n",
    "warnings.filterwarnings('ignore')\n",
    "\n",
    "import seaborn as sns\n",
    "from pandas.plotting import scatter_matrix"
   ]
  },
  {
   "cell_type": "code",
   "execution_count": 3,
   "metadata": {},
   "outputs": [
    {
     "data": {
      "text/html": [
       "<div>\n",
       "<style scoped>\n",
       "    .dataframe tbody tr th:only-of-type {\n",
       "        vertical-align: middle;\n",
       "    }\n",
       "\n",
       "    .dataframe tbody tr th {\n",
       "        vertical-align: top;\n",
       "    }\n",
       "\n",
       "    .dataframe thead th {\n",
       "        text-align: right;\n",
       "    }\n",
       "</style>\n",
       "<table border=\"1\" class=\"dataframe\">\n",
       "  <thead>\n",
       "    <tr style=\"text-align: right;\">\n",
       "      <th></th>\n",
       "      <th>layer_1</th>\n",
       "      <th>layer_2</th>\n",
       "      <th>layer_3</th>\n",
       "      <th>layer_4</th>\n",
       "      <th>0</th>\n",
       "      <th>1</th>\n",
       "      <th>2</th>\n",
       "      <th>3</th>\n",
       "      <th>4</th>\n",
       "      <th>5</th>\n",
       "      <th>...</th>\n",
       "      <th>216</th>\n",
       "      <th>217</th>\n",
       "      <th>218</th>\n",
       "      <th>219</th>\n",
       "      <th>220</th>\n",
       "      <th>221</th>\n",
       "      <th>222</th>\n",
       "      <th>223</th>\n",
       "      <th>224</th>\n",
       "      <th>225</th>\n",
       "    </tr>\n",
       "  </thead>\n",
       "  <tbody>\n",
       "    <tr>\n",
       "      <th>0</th>\n",
       "      <td>10</td>\n",
       "      <td>10</td>\n",
       "      <td>10</td>\n",
       "      <td>10</td>\n",
       "      <td>0.254551</td>\n",
       "      <td>0.258823</td>\n",
       "      <td>0.254659</td>\n",
       "      <td>0.252085</td>\n",
       "      <td>0.247678</td>\n",
       "      <td>0.253614</td>\n",
       "      <td>...</td>\n",
       "      <td>0.354750</td>\n",
       "      <td>0.369223</td>\n",
       "      <td>0.388184</td>\n",
       "      <td>0.408496</td>\n",
       "      <td>0.414564</td>\n",
       "      <td>0.429403</td>\n",
       "      <td>0.419225</td>\n",
       "      <td>0.443250</td>\n",
       "      <td>0.433414</td>\n",
       "      <td>0.465502</td>\n",
       "    </tr>\n",
       "    <tr>\n",
       "      <th>1</th>\n",
       "      <td>10</td>\n",
       "      <td>10</td>\n",
       "      <td>10</td>\n",
       "      <td>20</td>\n",
       "      <td>0.205062</td>\n",
       "      <td>0.225544</td>\n",
       "      <td>0.217758</td>\n",
       "      <td>0.202169</td>\n",
       "      <td>0.199633</td>\n",
       "      <td>0.207380</td>\n",
       "      <td>...</td>\n",
       "      <td>0.557203</td>\n",
       "      <td>0.573656</td>\n",
       "      <td>0.587998</td>\n",
       "      <td>0.612754</td>\n",
       "      <td>0.627825</td>\n",
       "      <td>0.633393</td>\n",
       "      <td>0.637706</td>\n",
       "      <td>0.625981</td>\n",
       "      <td>0.653231</td>\n",
       "      <td>0.637853</td>\n",
       "    </tr>\n",
       "    <tr>\n",
       "      <th>2</th>\n",
       "      <td>10</td>\n",
       "      <td>10</td>\n",
       "      <td>10</td>\n",
       "      <td>30</td>\n",
       "      <td>0.189196</td>\n",
       "      <td>0.165869</td>\n",
       "      <td>0.177655</td>\n",
       "      <td>0.156822</td>\n",
       "      <td>0.175094</td>\n",
       "      <td>0.177755</td>\n",
       "      <td>...</td>\n",
       "      <td>0.699864</td>\n",
       "      <td>0.708688</td>\n",
       "      <td>0.721982</td>\n",
       "      <td>0.713464</td>\n",
       "      <td>0.743030</td>\n",
       "      <td>0.741709</td>\n",
       "      <td>0.747743</td>\n",
       "      <td>0.746037</td>\n",
       "      <td>0.737356</td>\n",
       "      <td>0.750391</td>\n",
       "    </tr>\n",
       "    <tr>\n",
       "      <th>3</th>\n",
       "      <td>10</td>\n",
       "      <td>10</td>\n",
       "      <td>10</td>\n",
       "      <td>40</td>\n",
       "      <td>0.131003</td>\n",
       "      <td>0.120076</td>\n",
       "      <td>0.138975</td>\n",
       "      <td>0.117931</td>\n",
       "      <td>0.130566</td>\n",
       "      <td>0.131262</td>\n",
       "      <td>...</td>\n",
       "      <td>0.764786</td>\n",
       "      <td>0.763788</td>\n",
       "      <td>0.770017</td>\n",
       "      <td>0.787571</td>\n",
       "      <td>0.778866</td>\n",
       "      <td>0.776969</td>\n",
       "      <td>0.774712</td>\n",
       "      <td>0.801526</td>\n",
       "      <td>0.805305</td>\n",
       "      <td>0.784057</td>\n",
       "    </tr>\n",
       "    <tr>\n",
       "      <th>4</th>\n",
       "      <td>10</td>\n",
       "      <td>10</td>\n",
       "      <td>10</td>\n",
       "      <td>50</td>\n",
       "      <td>0.091033</td>\n",
       "      <td>0.086893</td>\n",
       "      <td>0.108125</td>\n",
       "      <td>0.080405</td>\n",
       "      <td>0.105917</td>\n",
       "      <td>0.077083</td>\n",
       "      <td>...</td>\n",
       "      <td>0.786677</td>\n",
       "      <td>0.802271</td>\n",
       "      <td>0.806557</td>\n",
       "      <td>0.799614</td>\n",
       "      <td>0.789333</td>\n",
       "      <td>0.804087</td>\n",
       "      <td>0.787763</td>\n",
       "      <td>0.794948</td>\n",
       "      <td>0.819105</td>\n",
       "      <td>0.801781</td>\n",
       "    </tr>\n",
       "  </tbody>\n",
       "</table>\n",
       "<p>5 rows × 230 columns</p>\n",
       "</div>"
      ],
      "text/plain": [
       "   layer_1  layer_2  layer_3  layer_4         0         1         2         3  \\\n",
       "0       10       10       10       10  0.254551  0.258823  0.254659  0.252085   \n",
       "1       10       10       10       20  0.205062  0.225544  0.217758  0.202169   \n",
       "2       10       10       10       30  0.189196  0.165869  0.177655  0.156822   \n",
       "3       10       10       10       40  0.131003  0.120076  0.138975  0.117931   \n",
       "4       10       10       10       50  0.091033  0.086893  0.108125  0.080405   \n",
       "\n",
       "          4         5  ...       216       217       218       219       220  \\\n",
       "0  0.247678  0.253614  ...  0.354750  0.369223  0.388184  0.408496  0.414564   \n",
       "1  0.199633  0.207380  ...  0.557203  0.573656  0.587998  0.612754  0.627825   \n",
       "2  0.175094  0.177755  ...  0.699864  0.708688  0.721982  0.713464  0.743030   \n",
       "3  0.130566  0.131262  ...  0.764786  0.763788  0.770017  0.787571  0.778866   \n",
       "4  0.105917  0.077083  ...  0.786677  0.802271  0.806557  0.799614  0.789333   \n",
       "\n",
       "        221       222       223       224       225  \n",
       "0  0.429403  0.419225  0.443250  0.433414  0.465502  \n",
       "1  0.633393  0.637706  0.625981  0.653231  0.637853  \n",
       "2  0.741709  0.747743  0.746037  0.737356  0.750391  \n",
       "3  0.776969  0.774712  0.801526  0.805305  0.784057  \n",
       "4  0.804087  0.787763  0.794948  0.819105  0.801781  \n",
       "\n",
       "[5 rows x 230 columns]"
      ]
     },
     "execution_count": 3,
     "metadata": {},
     "output_type": "execute_result"
    }
   ],
   "source": [
    "train = pd.read_csv('train.csv')\n",
    "train.head()"
   ]
  },
  {
   "cell_type": "code",
   "execution_count": 4,
   "metadata": {},
   "outputs": [
    {
     "data": {
      "text/html": [
       "<div>\n",
       "<style scoped>\n",
       "    .dataframe tbody tr th:only-of-type {\n",
       "        vertical-align: middle;\n",
       "    }\n",
       "\n",
       "    .dataframe tbody tr th {\n",
       "        vertical-align: top;\n",
       "    }\n",
       "\n",
       "    .dataframe thead th {\n",
       "        text-align: right;\n",
       "    }\n",
       "</style>\n",
       "<table border=\"1\" class=\"dataframe\">\n",
       "  <thead>\n",
       "    <tr style=\"text-align: right;\">\n",
       "      <th></th>\n",
       "      <th>id</th>\n",
       "      <th>0</th>\n",
       "      <th>1</th>\n",
       "      <th>2</th>\n",
       "      <th>3</th>\n",
       "      <th>4</th>\n",
       "      <th>5</th>\n",
       "      <th>6</th>\n",
       "      <th>7</th>\n",
       "      <th>8</th>\n",
       "      <th>...</th>\n",
       "      <th>216</th>\n",
       "      <th>217</th>\n",
       "      <th>218</th>\n",
       "      <th>219</th>\n",
       "      <th>220</th>\n",
       "      <th>221</th>\n",
       "      <th>222</th>\n",
       "      <th>223</th>\n",
       "      <th>224</th>\n",
       "      <th>225</th>\n",
       "    </tr>\n",
       "  </thead>\n",
       "  <tbody>\n",
       "    <tr>\n",
       "      <th>9995</th>\n",
       "      <td>9995</td>\n",
       "      <td>0.199957</td>\n",
       "      <td>0.227188</td>\n",
       "      <td>0.250628</td>\n",
       "      <td>0.265388</td>\n",
       "      <td>0.291736</td>\n",
       "      <td>0.319845</td>\n",
       "      <td>0.339820</td>\n",
       "      <td>0.368420</td>\n",
       "      <td>0.373319</td>\n",
       "      <td>...</td>\n",
       "      <td>0.422622</td>\n",
       "      <td>0.410483</td>\n",
       "      <td>0.409814</td>\n",
       "      <td>0.420162</td>\n",
       "      <td>0.426533</td>\n",
       "      <td>0.445706</td>\n",
       "      <td>0.487397</td>\n",
       "      <td>0.495991</td>\n",
       "      <td>0.534095</td>\n",
       "      <td>0.549278</td>\n",
       "    </tr>\n",
       "    <tr>\n",
       "      <th>9996</th>\n",
       "      <td>9996</td>\n",
       "      <td>0.180469</td>\n",
       "      <td>0.142472</td>\n",
       "      <td>0.112432</td>\n",
       "      <td>0.084084</td>\n",
       "      <td>0.071504</td>\n",
       "      <td>0.068979</td>\n",
       "      <td>0.070754</td>\n",
       "      <td>0.063943</td>\n",
       "      <td>0.071106</td>\n",
       "      <td>...</td>\n",
       "      <td>0.745875</td>\n",
       "      <td>0.776221</td>\n",
       "      <td>0.767607</td>\n",
       "      <td>0.774457</td>\n",
       "      <td>0.805273</td>\n",
       "      <td>0.802651</td>\n",
       "      <td>0.810866</td>\n",
       "      <td>0.792099</td>\n",
       "      <td>0.796827</td>\n",
       "      <td>0.791949</td>\n",
       "    </tr>\n",
       "    <tr>\n",
       "      <th>9997</th>\n",
       "      <td>9997</td>\n",
       "      <td>0.169476</td>\n",
       "      <td>0.180695</td>\n",
       "      <td>0.225148</td>\n",
       "      <td>0.220553</td>\n",
       "      <td>0.262136</td>\n",
       "      <td>0.288092</td>\n",
       "      <td>0.280675</td>\n",
       "      <td>0.312065</td>\n",
       "      <td>0.304840</td>\n",
       "      <td>...</td>\n",
       "      <td>0.282820</td>\n",
       "      <td>0.296270</td>\n",
       "      <td>0.324376</td>\n",
       "      <td>0.391588</td>\n",
       "      <td>0.436017</td>\n",
       "      <td>0.500170</td>\n",
       "      <td>0.569207</td>\n",
       "      <td>0.623997</td>\n",
       "      <td>0.673445</td>\n",
       "      <td>0.688012</td>\n",
       "    </tr>\n",
       "    <tr>\n",
       "      <th>9998</th>\n",
       "      <td>9998</td>\n",
       "      <td>0.218762</td>\n",
       "      <td>0.204023</td>\n",
       "      <td>0.207701</td>\n",
       "      <td>0.198991</td>\n",
       "      <td>0.188334</td>\n",
       "      <td>0.173722</td>\n",
       "      <td>0.161461</td>\n",
       "      <td>0.155859</td>\n",
       "      <td>0.136998</td>\n",
       "      <td>...</td>\n",
       "      <td>0.650535</td>\n",
       "      <td>0.662007</td>\n",
       "      <td>0.688480</td>\n",
       "      <td>0.708460</td>\n",
       "      <td>0.722464</td>\n",
       "      <td>0.726888</td>\n",
       "      <td>0.758949</td>\n",
       "      <td>0.771153</td>\n",
       "      <td>0.769234</td>\n",
       "      <td>0.785455</td>\n",
       "    </tr>\n",
       "    <tr>\n",
       "      <th>9999</th>\n",
       "      <td>9999</td>\n",
       "      <td>0.383608</td>\n",
       "      <td>0.355178</td>\n",
       "      <td>0.347031</td>\n",
       "      <td>0.338729</td>\n",
       "      <td>0.315327</td>\n",
       "      <td>0.316411</td>\n",
       "      <td>0.318317</td>\n",
       "      <td>0.285892</td>\n",
       "      <td>0.275320</td>\n",
       "      <td>...</td>\n",
       "      <td>0.321021</td>\n",
       "      <td>0.335527</td>\n",
       "      <td>0.339900</td>\n",
       "      <td>0.352514</td>\n",
       "      <td>0.388642</td>\n",
       "      <td>0.390270</td>\n",
       "      <td>0.406929</td>\n",
       "      <td>0.446899</td>\n",
       "      <td>0.451189</td>\n",
       "      <td>0.472153</td>\n",
       "    </tr>\n",
       "  </tbody>\n",
       "</table>\n",
       "<p>5 rows × 227 columns</p>\n",
       "</div>"
      ],
      "text/plain": [
       "        id         0         1         2         3         4         5  \\\n",
       "9995  9995  0.199957  0.227188  0.250628  0.265388  0.291736  0.319845   \n",
       "9996  9996  0.180469  0.142472  0.112432  0.084084  0.071504  0.068979   \n",
       "9997  9997  0.169476  0.180695  0.225148  0.220553  0.262136  0.288092   \n",
       "9998  9998  0.218762  0.204023  0.207701  0.198991  0.188334  0.173722   \n",
       "9999  9999  0.383608  0.355178  0.347031  0.338729  0.315327  0.316411   \n",
       "\n",
       "             6         7         8  ...       216       217       218  \\\n",
       "9995  0.339820  0.368420  0.373319  ...  0.422622  0.410483  0.409814   \n",
       "9996  0.070754  0.063943  0.071106  ...  0.745875  0.776221  0.767607   \n",
       "9997  0.280675  0.312065  0.304840  ...  0.282820  0.296270  0.324376   \n",
       "9998  0.161461  0.155859  0.136998  ...  0.650535  0.662007  0.688480   \n",
       "9999  0.318317  0.285892  0.275320  ...  0.321021  0.335527  0.339900   \n",
       "\n",
       "           219       220       221       222       223       224       225  \n",
       "9995  0.420162  0.426533  0.445706  0.487397  0.495991  0.534095  0.549278  \n",
       "9996  0.774457  0.805273  0.802651  0.810866  0.792099  0.796827  0.791949  \n",
       "9997  0.391588  0.436017  0.500170  0.569207  0.623997  0.673445  0.688012  \n",
       "9998  0.708460  0.722464  0.726888  0.758949  0.771153  0.769234  0.785455  \n",
       "9999  0.352514  0.388642  0.390270  0.406929  0.446899  0.451189  0.472153  \n",
       "\n",
       "[5 rows x 227 columns]"
      ]
     },
     "execution_count": 4,
     "metadata": {},
     "output_type": "execute_result"
    }
   ],
   "source": [
    "test = pd.read_csv('test.csv')\n",
    "test.head()\n",
    "test.tail()"
   ]
  },
  {
   "cell_type": "code",
   "execution_count": 9,
   "metadata": {},
   "outputs": [
    {
     "data": {
      "text/html": [
       "<div>\n",
       "<style scoped>\n",
       "    .dataframe tbody tr th:only-of-type {\n",
       "        vertical-align: middle;\n",
       "    }\n",
       "\n",
       "    .dataframe tbody tr th {\n",
       "        vertical-align: top;\n",
       "    }\n",
       "\n",
       "    .dataframe thead th {\n",
       "        text-align: right;\n",
       "    }\n",
       "</style>\n",
       "<table border=\"1\" class=\"dataframe\">\n",
       "  <thead>\n",
       "    <tr style=\"text-align: right;\">\n",
       "      <th></th>\n",
       "      <th>id</th>\n",
       "      <th>layer_1</th>\n",
       "      <th>layer_2</th>\n",
       "      <th>layer_3</th>\n",
       "      <th>layer_4</th>\n",
       "    </tr>\n",
       "  </thead>\n",
       "  <tbody>\n",
       "    <tr>\n",
       "      <th>9995</th>\n",
       "      <td>9995</td>\n",
       "      <td>0.0</td>\n",
       "      <td>0.0</td>\n",
       "      <td>0.0</td>\n",
       "      <td>0.0</td>\n",
       "    </tr>\n",
       "    <tr>\n",
       "      <th>9996</th>\n",
       "      <td>9996</td>\n",
       "      <td>0.0</td>\n",
       "      <td>0.0</td>\n",
       "      <td>0.0</td>\n",
       "      <td>0.0</td>\n",
       "    </tr>\n",
       "    <tr>\n",
       "      <th>9997</th>\n",
       "      <td>9997</td>\n",
       "      <td>0.0</td>\n",
       "      <td>0.0</td>\n",
       "      <td>0.0</td>\n",
       "      <td>0.0</td>\n",
       "    </tr>\n",
       "    <tr>\n",
       "      <th>9998</th>\n",
       "      <td>9998</td>\n",
       "      <td>0.0</td>\n",
       "      <td>0.0</td>\n",
       "      <td>0.0</td>\n",
       "      <td>0.0</td>\n",
       "    </tr>\n",
       "    <tr>\n",
       "      <th>9999</th>\n",
       "      <td>9999</td>\n",
       "      <td>0.0</td>\n",
       "      <td>0.0</td>\n",
       "      <td>0.0</td>\n",
       "      <td>0.0</td>\n",
       "    </tr>\n",
       "  </tbody>\n",
       "</table>\n",
       "</div>"
      ],
      "text/plain": [
       "        id  layer_1  layer_2  layer_3  layer_4\n",
       "9995  9995      0.0      0.0      0.0      0.0\n",
       "9996  9996      0.0      0.0      0.0      0.0\n",
       "9997  9997      0.0      0.0      0.0      0.0\n",
       "9998  9998      0.0      0.0      0.0      0.0\n",
       "9999  9999      0.0      0.0      0.0      0.0"
      ]
     },
     "execution_count": 9,
     "metadata": {},
     "output_type": "execute_result"
    }
   ],
   "source": [
    "sample_sub = pd.read_csv('sample_submission.csv')\n",
    "sample_sub.tail()"
   ]
  },
  {
   "cell_type": "markdown",
   "metadata": {},
   "source": [
    "-------\n",
    "\n",
    "## EDA"
   ]
  },
  {
   "cell_type": "code",
   "execution_count": 12,
   "metadata": {},
   "outputs": [
    {
     "name": "stdout",
     "output_type": "stream",
     "text": [
      "Train shape (810000, 230)\n",
      "Test shape (10000, 227)\n"
     ]
    }
   ],
   "source": [
    "print('Train shape', train.shape)\n",
    "print('Test shape',  test.shape)"
   ]
  },
  {
   "cell_type": "markdown",
   "metadata": {},
   "source": [
    "### Missing check\n",
    "#### No NAs"
   ]
  },
  {
   "cell_type": "code",
   "execution_count": 29,
   "metadata": {},
   "outputs": [
    {
     "name": "stdout",
     "output_type": "stream",
     "text": [
      "Empty DataFrame\n",
      "Columns: [layer_1, layer_2, layer_3, layer_4, 0, 1, 2, 3, 4, 5, 6, 7, 8, 9, 10, 11, 12, 13, 14, 15, 16, 17, 18, 19, 20, 21, 22, 23, 24, 25, 26, 27, 28, 29, 30, 31, 32, 33, 34, 35, 36, 37, 38, 39, 40, 41, 42, 43, 44, 45, 46, 47, 48, 49, 50, 51, 52, 53, 54, 55, 56, 57, 58, 59, 60, 61, 62, 63, 64, 65, 66, 67, 68, 69, 70, 71, 72, 73, 74, 75, 76, 77, 78, 79, 80, 81, 82, 83, 84, 85, 86, 87, 88, 89, 90, 91, 92, 93, 94, 95, ...]\n",
      "Index: []\n",
      "\n",
      "[0 rows x 230 columns]\n"
     ]
    }
   ],
   "source": [
    "print(train[train.isnull().any(axis=1)].head())"
   ]
  },
  {
   "cell_type": "markdown",
   "metadata": {},
   "source": [
    "### Value counts\n",
    "#### layer의 종류는 30개 고정. 반사율도 몇몇 중복 있음"
   ]
  },
  {
   "cell_type": "code",
   "execution_count": 39,
   "metadata": {},
   "outputs": [],
   "source": [
    "test_noid = test.drop(['id'], axis='columns', inplace=True)\n",
    "\n",
    "traintest = pd.concat([train, test_noid], axis = 0)"
   ]
  },
  {
   "cell_type": "code",
   "execution_count": 40,
   "metadata": {},
   "outputs": [
    {
     "data": {
      "text/html": [
       "<div>\n",
       "<style scoped>\n",
       "    .dataframe tbody tr th:only-of-type {\n",
       "        vertical-align: middle;\n",
       "    }\n",
       "\n",
       "    .dataframe tbody tr th {\n",
       "        vertical-align: top;\n",
       "    }\n",
       "\n",
       "    .dataframe thead th {\n",
       "        text-align: right;\n",
       "    }\n",
       "</style>\n",
       "<table border=\"1\" class=\"dataframe\">\n",
       "  <thead>\n",
       "    <tr style=\"text-align: right;\">\n",
       "      <th></th>\n",
       "      <th>layer_1</th>\n",
       "      <th>layer_2</th>\n",
       "      <th>layer_3</th>\n",
       "      <th>layer_4</th>\n",
       "      <th>0</th>\n",
       "      <th>1</th>\n",
       "      <th>2</th>\n",
       "      <th>3</th>\n",
       "      <th>4</th>\n",
       "      <th>5</th>\n",
       "      <th>...</th>\n",
       "      <th>216</th>\n",
       "      <th>217</th>\n",
       "      <th>218</th>\n",
       "      <th>219</th>\n",
       "      <th>220</th>\n",
       "      <th>221</th>\n",
       "      <th>222</th>\n",
       "      <th>223</th>\n",
       "      <th>224</th>\n",
       "      <th>225</th>\n",
       "    </tr>\n",
       "  </thead>\n",
       "  <tbody>\n",
       "    <tr>\n",
       "      <th>0</th>\n",
       "      <td>10</td>\n",
       "      <td>10</td>\n",
       "      <td>10</td>\n",
       "      <td>10</td>\n",
       "      <td>0.254551</td>\n",
       "      <td>0.258823</td>\n",
       "      <td>0.254659</td>\n",
       "      <td>0.252085</td>\n",
       "      <td>0.247678</td>\n",
       "      <td>0.253614</td>\n",
       "      <td>...</td>\n",
       "      <td>0.354750</td>\n",
       "      <td>0.369223</td>\n",
       "      <td>0.388184</td>\n",
       "      <td>0.408496</td>\n",
       "      <td>0.414564</td>\n",
       "      <td>0.429403</td>\n",
       "      <td>0.419225</td>\n",
       "      <td>0.443250</td>\n",
       "      <td>0.433414</td>\n",
       "      <td>0.465502</td>\n",
       "    </tr>\n",
       "    <tr>\n",
       "      <th>1</th>\n",
       "      <td>10</td>\n",
       "      <td>10</td>\n",
       "      <td>10</td>\n",
       "      <td>20</td>\n",
       "      <td>0.205062</td>\n",
       "      <td>0.225544</td>\n",
       "      <td>0.217758</td>\n",
       "      <td>0.202169</td>\n",
       "      <td>0.199633</td>\n",
       "      <td>0.207380</td>\n",
       "      <td>...</td>\n",
       "      <td>0.557203</td>\n",
       "      <td>0.573656</td>\n",
       "      <td>0.587998</td>\n",
       "      <td>0.612754</td>\n",
       "      <td>0.627825</td>\n",
       "      <td>0.633393</td>\n",
       "      <td>0.637706</td>\n",
       "      <td>0.625981</td>\n",
       "      <td>0.653231</td>\n",
       "      <td>0.637853</td>\n",
       "    </tr>\n",
       "    <tr>\n",
       "      <th>2</th>\n",
       "      <td>10</td>\n",
       "      <td>10</td>\n",
       "      <td>10</td>\n",
       "      <td>30</td>\n",
       "      <td>0.189196</td>\n",
       "      <td>0.165869</td>\n",
       "      <td>0.177655</td>\n",
       "      <td>0.156822</td>\n",
       "      <td>0.175094</td>\n",
       "      <td>0.177755</td>\n",
       "      <td>...</td>\n",
       "      <td>0.699864</td>\n",
       "      <td>0.708688</td>\n",
       "      <td>0.721982</td>\n",
       "      <td>0.713464</td>\n",
       "      <td>0.743030</td>\n",
       "      <td>0.741709</td>\n",
       "      <td>0.747743</td>\n",
       "      <td>0.746037</td>\n",
       "      <td>0.737356</td>\n",
       "      <td>0.750391</td>\n",
       "    </tr>\n",
       "    <tr>\n",
       "      <th>3</th>\n",
       "      <td>10</td>\n",
       "      <td>10</td>\n",
       "      <td>10</td>\n",
       "      <td>40</td>\n",
       "      <td>0.131003</td>\n",
       "      <td>0.120076</td>\n",
       "      <td>0.138975</td>\n",
       "      <td>0.117931</td>\n",
       "      <td>0.130566</td>\n",
       "      <td>0.131262</td>\n",
       "      <td>...</td>\n",
       "      <td>0.764786</td>\n",
       "      <td>0.763788</td>\n",
       "      <td>0.770017</td>\n",
       "      <td>0.787571</td>\n",
       "      <td>0.778866</td>\n",
       "      <td>0.776969</td>\n",
       "      <td>0.774712</td>\n",
       "      <td>0.801526</td>\n",
       "      <td>0.805305</td>\n",
       "      <td>0.784057</td>\n",
       "    </tr>\n",
       "    <tr>\n",
       "      <th>4</th>\n",
       "      <td>10</td>\n",
       "      <td>10</td>\n",
       "      <td>10</td>\n",
       "      <td>50</td>\n",
       "      <td>0.091033</td>\n",
       "      <td>0.086893</td>\n",
       "      <td>0.108125</td>\n",
       "      <td>0.080405</td>\n",
       "      <td>0.105917</td>\n",
       "      <td>0.077083</td>\n",
       "      <td>...</td>\n",
       "      <td>0.786677</td>\n",
       "      <td>0.802271</td>\n",
       "      <td>0.806557</td>\n",
       "      <td>0.799614</td>\n",
       "      <td>0.789333</td>\n",
       "      <td>0.804087</td>\n",
       "      <td>0.787763</td>\n",
       "      <td>0.794948</td>\n",
       "      <td>0.819105</td>\n",
       "      <td>0.801781</td>\n",
       "    </tr>\n",
       "  </tbody>\n",
       "</table>\n",
       "<p>5 rows × 230 columns</p>\n",
       "</div>"
      ],
      "text/plain": [
       "   layer_1  layer_2  layer_3  layer_4         0         1         2         3  \\\n",
       "0       10       10       10       10  0.254551  0.258823  0.254659  0.252085   \n",
       "1       10       10       10       20  0.205062  0.225544  0.217758  0.202169   \n",
       "2       10       10       10       30  0.189196  0.165869  0.177655  0.156822   \n",
       "3       10       10       10       40  0.131003  0.120076  0.138975  0.117931   \n",
       "4       10       10       10       50  0.091033  0.086893  0.108125  0.080405   \n",
       "\n",
       "          4         5  ...       216       217       218       219       220  \\\n",
       "0  0.247678  0.253614  ...  0.354750  0.369223  0.388184  0.408496  0.414564   \n",
       "1  0.199633  0.207380  ...  0.557203  0.573656  0.587998  0.612754  0.627825   \n",
       "2  0.175094  0.177755  ...  0.699864  0.708688  0.721982  0.713464  0.743030   \n",
       "3  0.130566  0.131262  ...  0.764786  0.763788  0.770017  0.787571  0.778866   \n",
       "4  0.105917  0.077083  ...  0.786677  0.802271  0.806557  0.799614  0.789333   \n",
       "\n",
       "        221       222       223       224       225  \n",
       "0  0.429403  0.419225  0.443250  0.433414  0.465502  \n",
       "1  0.633393  0.637706  0.625981  0.653231  0.637853  \n",
       "2  0.741709  0.747743  0.746037  0.737356  0.750391  \n",
       "3  0.776969  0.774712  0.801526  0.805305  0.784057  \n",
       "4  0.804087  0.787763  0.794948  0.819105  0.801781  \n",
       "\n",
       "[5 rows x 230 columns]"
      ]
     },
     "execution_count": 40,
     "metadata": {},
     "output_type": "execute_result"
    }
   ],
   "source": [
    "traintest.head()"
   ]
  },
  {
   "cell_type": "code",
   "execution_count": 41,
   "metadata": {},
   "outputs": [],
   "source": [
    "# `dropna = False` makes nunique treat NaNs as a distinct value\n",
    "feats_counts = train.nunique(dropna = False)"
   ]
  },
  {
   "cell_type": "code",
   "execution_count": 42,
   "metadata": {},
   "outputs": [
    {
     "data": {
      "text/plain": [
       "layer_1        30\n",
       "layer_2        30\n",
       "layer_3        30\n",
       "layer_4        30\n",
       "225        779868\n",
       "224        780235\n",
       "222        780258\n",
       "223        780536\n",
       "220        780719\n",
       "221        780827\n",
       "dtype: int64"
      ]
     },
     "execution_count": 42,
     "metadata": {},
     "output_type": "execute_result"
    }
   ],
   "source": [
    "feats_counts.sort_values()[:10]"
   ]
  },
  {
   "cell_type": "markdown",
   "metadata": {},
   "source": [
    "### Duplicates\n",
    "#### No Duplicates"
   ]
  },
  {
   "cell_type": "code",
   "execution_count": 45,
   "metadata": {},
   "outputs": [
    {
     "data": {
      "application/vnd.jupyter.widget-view+json": {
       "model_id": "62a19af15ab6425da81fb3809ae4e57d",
       "version_major": 2,
       "version_minor": 0
      },
      "text/plain": [
       "HBox(children=(IntProgress(value=0, max=230), HTML(value='')))"
      ]
     },
     "metadata": {},
     "output_type": "display_data"
    }
   ],
   "source": [
    "train_enc =  pd.DataFrame(index = train.index)\n",
    "\n",
    "for col in tqdm_notebook(traintest.columns):\n",
    "    train_enc[col] = train[col].factorize()[0]"
   ]
  },
  {
   "cell_type": "code",
   "execution_count": 46,
   "metadata": {},
   "outputs": [
    {
     "data": {
      "application/vnd.jupyter.widget-view+json": {
       "model_id": "9ebd8d8ed2c141729ccd7ce0787a21c6",
       "version_major": 2,
       "version_minor": 0
      },
      "text/plain": [
       "HBox(children=(IntProgress(value=0, max=230), HTML(value='')))"
      ]
     },
     "metadata": {},
     "output_type": "display_data"
    }
   ],
   "source": [
    "dup_cols = {}\n",
    "\n",
    "for i, c1 in enumerate(tqdm_notebook(train_enc.columns)):\n",
    "    for c2 in train_enc.columns[i + 1:]:\n",
    "        if c2 not in dup_cols and np.all(train_enc[c1] == train_enc[c2]):\n",
    "            dup_cols[c2] = c1"
   ]
  },
  {
   "cell_type": "code",
   "execution_count": 47,
   "metadata": {},
   "outputs": [
    {
     "data": {
      "text/plain": [
       "{}"
      ]
     },
     "execution_count": 47,
     "metadata": {},
     "output_type": "execute_result"
    }
   ],
   "source": [
    "dup_cols"
   ]
  },
  {
   "cell_type": "markdown",
   "metadata": {},
   "source": [
    "### Corr Plot\n",
    "#### Variance Transformation 전: \n",
    "#### 1. Layer와 거의 상관관계가 존재하지 않는다.\n",
    "#### 2. 본인 번호 기준 10차이정도 까진 양의 선형. 10~30차이정도까진 음의 선형 관계. 그 이후 변수들과는 관계 무"
   ]
  },
  {
   "cell_type": "code",
   "execution_count": 5,
   "metadata": {},
   "outputs": [],
   "source": [
    "num_cols = list(train.select_dtypes(exclude=['object']).columns)"
   ]
  },
  {
   "cell_type": "code",
   "execution_count": 4,
   "metadata": {},
   "outputs": [
    {
     "data": {
      "image/png": "[encoded data removed]",
      "text/plain": [
       "<Figure size 1440x1080 with 2 Axes>"
      ]
     },
     "metadata": {
      "needs_background": "light"
     },
     "output_type": "display_data"
    }
   ],
   "source": [
    "corr = train.corr()\n",
    "\n",
    "plt.figure(figsize=(20,15))\n",
    "ax = sns.heatmap(\n",
    "    corr, \n",
    "    vmin=-1, vmax=1, center=0,\n",
    "    cmap=sns.diverging_palette(20, 220, n=200),\n",
    "    square=True\n",
    ")"
   ]
  },
  {
   "cell_type": "markdown",
   "metadata": {},
   "source": [
    "#### After Transformation\n",
    "#### 변환전과 다를바 없음"
   ]
  },
  {
   "cell_type": "code",
   "execution_count": 6,
   "metadata": {},
   "outputs": [],
   "source": [
    "layers = num_cols[0:4]\n",
    "\n",
    "train_trans = pd.concat([train[layers], train.iloc[:,4:]*100], axis=1)"
   ]
  },
  {
   "cell_type": "code",
   "execution_count": null,
   "metadata": {},
   "outputs": [],
   "source": [
    "corr_trans = train_trans.corr()\n",
    "\n",
    "plt.figure(figsize=(20,15))\n",
    "ax = sns.heatmap(\n",
    "    corr_trans, \n",
    "    vmin=-1, vmax=1, center=0,\n",
    "    cmap=sns.diverging_palette(20, 220, n=200),\n",
    "    square=True\n",
    ")"
   ]
  },
  {
   "cell_type": "markdown",
   "metadata": {},
   "source": [
    "### Target info\n",
    "#### 10~300까지의 판막이 27,000개씩 동일하게 분포함. 30의 4제곱 = 810,000"
   ]
  },
  {
   "cell_type": "code",
   "execution_count": 69,
   "metadata": {},
   "outputs": [
    {
     "data": {
      "text/html": [
       "<div>\n",
       "<style scoped>\n",
       "    .dataframe tbody tr th:only-of-type {\n",
       "        vertical-align: middle;\n",
       "    }\n",
       "\n",
       "    .dataframe tbody tr th {\n",
       "        vertical-align: top;\n",
       "    }\n",
       "\n",
       "    .dataframe thead th {\n",
       "        text-align: right;\n",
       "    }\n",
       "</style>\n",
       "<table border=\"1\" class=\"dataframe\">\n",
       "  <thead>\n",
       "    <tr style=\"text-align: right;\">\n",
       "      <th></th>\n",
       "      <th>layer_1</th>\n",
       "      <th>layer_2</th>\n",
       "      <th>layer_3</th>\n",
       "      <th>layer_4</th>\n",
       "    </tr>\n",
       "  </thead>\n",
       "  <tbody>\n",
       "    <tr>\n",
       "      <th>0</th>\n",
       "      <td>10</td>\n",
       "      <td>10</td>\n",
       "      <td>10</td>\n",
       "      <td>10</td>\n",
       "    </tr>\n",
       "    <tr>\n",
       "      <th>1</th>\n",
       "      <td>10</td>\n",
       "      <td>10</td>\n",
       "      <td>10</td>\n",
       "      <td>20</td>\n",
       "    </tr>\n",
       "    <tr>\n",
       "      <th>2</th>\n",
       "      <td>10</td>\n",
       "      <td>10</td>\n",
       "      <td>10</td>\n",
       "      <td>30</td>\n",
       "    </tr>\n",
       "    <tr>\n",
       "      <th>3</th>\n",
       "      <td>10</td>\n",
       "      <td>10</td>\n",
       "      <td>10</td>\n",
       "      <td>40</td>\n",
       "    </tr>\n",
       "    <tr>\n",
       "      <th>4</th>\n",
       "      <td>10</td>\n",
       "      <td>10</td>\n",
       "      <td>10</td>\n",
       "      <td>50</td>\n",
       "    </tr>\n",
       "  </tbody>\n",
       "</table>\n",
       "</div>"
      ],
      "text/plain": [
       "   layer_1  layer_2  layer_3  layer_4\n",
       "0       10       10       10       10\n",
       "1       10       10       10       20\n",
       "2       10       10       10       30\n",
       "3       10       10       10       40\n",
       "4       10       10       10       50"
      ]
     },
     "execution_count": 69,
     "metadata": {},
     "output_type": "execute_result"
    }
   ],
   "source": [
    "data = train[layers]\n",
    "data.head()"
   ]
  },
  {
   "cell_type": "code",
   "execution_count": 78,
   "metadata": {},
   "outputs": [
    {
     "data": {
      "image/png": "[encoded data removed]",
      "text/plain": [
       "<Figure size 432x288 with 1 Axes>"
      ]
     },
     "metadata": {
      "needs_background": "light"
     },
     "output_type": "display_data"
    }
   ],
   "source": [
    "sns.distplot(data[\"layer_1\"], color=\"blue\", label=\"layer 1\")\n",
    "sns.distplot(data[\"layer_2\"], color=\"red\", label=\"layer 2\")\n",
    "sns.distplot(data[\"layer_3\"], color=\"green\", label=\"layer 3\")\n",
    "sns.distplot(data[\"layer_4\"], color=\"yellow\", label=\"layer 4\")\n",
    "\n",
    "plt.legend(title=\"layers\")\n",
    "\n",
    "plt.show()"
   ]
  },
  {
   "cell_type": "code",
   "execution_count": 85,
   "metadata": {
    "collapsed": true
   },
   "outputs": [
    {
     "data": {
      "text/plain": [
       "300    27000\n",
       "290    27000\n",
       "20     27000\n",
       "30     27000\n",
       "40     27000\n",
       "50     27000\n",
       "60     27000\n",
       "70     27000\n",
       "80     27000\n",
       "90     27000\n",
       "100    27000\n",
       "110    27000\n",
       "120    27000\n",
       "130    27000\n",
       "140    27000\n",
       "150    27000\n",
       "160    27000\n",
       "170    27000\n",
       "180    27000\n",
       "190    27000\n",
       "200    27000\n",
       "210    27000\n",
       "220    27000\n",
       "230    27000\n",
       "240    27000\n",
       "250    27000\n",
       "260    27000\n",
       "270    27000\n",
       "280    27000\n",
       "10     27000\n",
       "Name: layer_1, dtype: int64"
      ]
     },
     "execution_count": 85,
     "metadata": {},
     "output_type": "execute_result"
    }
   ],
   "source": [
    "data[\"layer_1\"].value_counts()"
   ]
  },
  {
   "cell_type": "markdown",
   "metadata": {},
   "source": [
    "### Variables Info\n",
    "#### "
   ]
  },
  {
   "cell_type": "code",
   "execution_count": 9,
   "metadata": {},
   "outputs": [],
   "source": [
    "feats1 = num_cols[0:15]\n",
    "feats2 = layers + num_cols[15:25]\n",
    "# feats3 = layers + num_cols[205:]\n",
    "\n",
    "data1 = train[feats1]\n",
    "data2 = train[feats2]\n",
    "# data3 = train[feats3]"
   ]
  },
  {
   "cell_type": "code",
   "execution_count": 8,
   "metadata": {},
   "outputs": [
    {
     "data": {
      "text/plain": [
       "<Figure size 720x360 with 0 Axes>"
      ]
     },
     "metadata": {},
     "output_type": "display_data"
    },
    {
     "data": {
      "image/png": "[encoded data removed]",
      "text/plain": [
       "<Figure size 432x288 with 225 Axes>"
      ]
     },
     "metadata": {
      "needs_background": "light"
     },
     "output_type": "display_data"
    }
   ],
   "source": [
    "plt.figure(figsize=(20,15))\n",
    "\n",
    "scatter_matrix(data1)\n",
    "plt.show()"
   ]
  },
  {
   "cell_type": "code",
   "execution_count": 10,
   "metadata": {},
   "outputs": [
    {
     "data": {
      "text/plain": [
       "<Figure size 1440x1080 with 0 Axes>"
      ]
     },
     "metadata": {},
     "output_type": "display_data"
    },
    {
     "data": {
      "image/png": "[encoded data removed]",
      "text/plain": [
       "<Figure size 432x288 with 196 Axes>"
      ]
     },
     "metadata": {
      "needs_background": "light"
     },
     "output_type": "display_data"
    }
   ],
   "source": [
    "plt.figure(figsize=(20,15))\n",
    "\n",
    "scatter_matrix(data2)\n",
    "plt.show()"
   ]
  },
  {
   "cell_type": "code",
   "execution_count": 27,
   "metadata": {},
   "outputs": [
    {
     "data": {
      "text/plain": [
       "<Figure size 1440x1080 with 0 Axes>"
      ]
     },
     "metadata": {},
     "output_type": "display_data"
    },
    {
     "data": {
      "image/png": "[encoded data removed]",
      "text/plain": [
       "<Figure size 432x288 with 4 Axes>"
      ]
     },
     "metadata": {
      "needs_background": "light"
     },
     "output_type": "display_data"
    }
   ],
   "source": [
    "plt.figure(figsize=(20,15))\n",
    "\n",
    "scatter_matrix(train[['0','25']])\n",
    "plt.show()"
   ]
  },
  {
   "cell_type": "code",
   "execution_count": 28,
   "metadata": {},
   "outputs": [
    {
     "data": {
      "text/plain": [
       "<Figure size 1440x1080 with 0 Axes>"
      ]
     },
     "metadata": {},
     "output_type": "display_data"
    },
    {
     "data": {
      "image/png": "[encoded data removed]",
      "text/plain": [
       "<Figure size 432x288 with 4 Axes>"
      ]
     },
     "metadata": {
      "needs_background": "light"
     },
     "output_type": "display_data"
    }
   ],
   "source": [
    "plt.figure(figsize=(20,15))\n",
    "\n",
    "scatter_matrix(train[['0','35']])\n",
    "plt.show()"
   ]
  },
  {
   "cell_type": "code",
   "execution_count": 29,
   "metadata": {},
   "outputs": [
    {
     "data": {
      "text/plain": [
       "<Figure size 1440x1080 with 0 Axes>"
      ]
     },
     "metadata": {},
     "output_type": "display_data"
    },
    {
     "data": {
      "image/png": "[encoded data removed]",
      "text/plain": [
       "<Figure size 432x288 with 4 Axes>"
      ]
     },
     "metadata": {
      "needs_background": "light"
     },
     "output_type": "display_data"
    }
   ],
   "source": [
    "plt.figure(figsize=(20,15))\n",
    "\n",
    "scatter_matrix(train[['0','70']])\n",
    "plt.show()"
   ]
  }
 ],
 "metadata": {
  "kernelspec": {
   "display_name": "Python 3",
   "language": "python",
   "name": "python3"
  },
  "language_info": {
   "codemirror_mode": {
    "name": "ipython",
    "version": 3
   },
   "file_extension": ".py",
   "mimetype": "text/x-python",
   "name": "python",
   "nbconvert_exporter": "python",
   "pygments_lexer": "ipython3",
   "version": "3.7.4"
  }
 },
 "nbformat": 4,
 "nbformat_minor": 2
}
